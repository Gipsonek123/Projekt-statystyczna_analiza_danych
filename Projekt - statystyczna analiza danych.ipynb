{
 "cells": [
  {
   "cell_type": "markdown",
   "id": "04e2f67e-269e-4c87-840d-32217c8f80cb",
   "metadata": {},
   "source": [
    "<h1>Import bibliotek</h1>"
   ]
  },
  {
   "cell_type": "code",
   "execution_count": 226,
   "id": "ea930784-18a8-4b0d-a1d1-a18956f14e5f",
   "metadata": {},
   "outputs": [],
   "source": [
    "import pandas as pd\n",
    "from scipy.stats import ttest_ind\n",
    "from scipy.stats import spearmanr\n",
    "import numpy as np\n",
    "from scipy.stats import levene\n",
    "import matplotlib.pyplot as plt"
   ]
  },
  {
   "cell_type": "code",
   "execution_count": 227,
   "id": "fcf22ec0-9744-4a12-b10f-d21718a9a3e2",
   "metadata": {},
   "outputs": [],
   "source": [
    "df = pd.read_csv(\"diabetes.csv\")"
   ]
  },
  {
   "cell_type": "code",
   "execution_count": 228,
   "id": "517e5853-15ef-4a0c-bc51-7fb17393d65e",
   "metadata": {},
   "outputs": [
    {
     "data": {
      "text/html": [
       "<div>\n",
       "<style scoped>\n",
       "    .dataframe tbody tr th:only-of-type {\n",
       "        vertical-align: middle;\n",
       "    }\n",
       "\n",
       "    .dataframe tbody tr th {\n",
       "        vertical-align: top;\n",
       "    }\n",
       "\n",
       "    .dataframe thead th {\n",
       "        text-align: right;\n",
       "    }\n",
       "</style>\n",
       "<table border=\"1\" class=\"dataframe\">\n",
       "  <thead>\n",
       "    <tr style=\"text-align: right;\">\n",
       "      <th></th>\n",
       "      <th>Pregnancies</th>\n",
       "      <th>Glucose</th>\n",
       "      <th>BloodPressure</th>\n",
       "      <th>SkinThickness</th>\n",
       "      <th>Insulin</th>\n",
       "      <th>BMI</th>\n",
       "      <th>DiabetesPedigreeFunction</th>\n",
       "      <th>Age</th>\n",
       "      <th>Outcome</th>\n",
       "    </tr>\n",
       "  </thead>\n",
       "  <tbody>\n",
       "    <tr>\n",
       "      <th>0</th>\n",
       "      <td>6</td>\n",
       "      <td>148</td>\n",
       "      <td>72</td>\n",
       "      <td>35</td>\n",
       "      <td>0</td>\n",
       "      <td>33.6</td>\n",
       "      <td>0.627</td>\n",
       "      <td>50</td>\n",
       "      <td>1</td>\n",
       "    </tr>\n",
       "    <tr>\n",
       "      <th>1</th>\n",
       "      <td>1</td>\n",
       "      <td>85</td>\n",
       "      <td>66</td>\n",
       "      <td>29</td>\n",
       "      <td>0</td>\n",
       "      <td>26.6</td>\n",
       "      <td>0.351</td>\n",
       "      <td>31</td>\n",
       "      <td>0</td>\n",
       "    </tr>\n",
       "    <tr>\n",
       "      <th>2</th>\n",
       "      <td>8</td>\n",
       "      <td>183</td>\n",
       "      <td>64</td>\n",
       "      <td>0</td>\n",
       "      <td>0</td>\n",
       "      <td>23.3</td>\n",
       "      <td>0.672</td>\n",
       "      <td>32</td>\n",
       "      <td>1</td>\n",
       "    </tr>\n",
       "    <tr>\n",
       "      <th>3</th>\n",
       "      <td>1</td>\n",
       "      <td>89</td>\n",
       "      <td>66</td>\n",
       "      <td>23</td>\n",
       "      <td>94</td>\n",
       "      <td>28.1</td>\n",
       "      <td>0.167</td>\n",
       "      <td>21</td>\n",
       "      <td>0</td>\n",
       "    </tr>\n",
       "    <tr>\n",
       "      <th>4</th>\n",
       "      <td>0</td>\n",
       "      <td>137</td>\n",
       "      <td>40</td>\n",
       "      <td>35</td>\n",
       "      <td>168</td>\n",
       "      <td>43.1</td>\n",
       "      <td>2.288</td>\n",
       "      <td>33</td>\n",
       "      <td>1</td>\n",
       "    </tr>\n",
       "    <tr>\n",
       "      <th>...</th>\n",
       "      <td>...</td>\n",
       "      <td>...</td>\n",
       "      <td>...</td>\n",
       "      <td>...</td>\n",
       "      <td>...</td>\n",
       "      <td>...</td>\n",
       "      <td>...</td>\n",
       "      <td>...</td>\n",
       "      <td>...</td>\n",
       "    </tr>\n",
       "    <tr>\n",
       "      <th>763</th>\n",
       "      <td>10</td>\n",
       "      <td>101</td>\n",
       "      <td>76</td>\n",
       "      <td>48</td>\n",
       "      <td>180</td>\n",
       "      <td>32.9</td>\n",
       "      <td>0.171</td>\n",
       "      <td>63</td>\n",
       "      <td>0</td>\n",
       "    </tr>\n",
       "    <tr>\n",
       "      <th>764</th>\n",
       "      <td>2</td>\n",
       "      <td>122</td>\n",
       "      <td>70</td>\n",
       "      <td>27</td>\n",
       "      <td>0</td>\n",
       "      <td>36.8</td>\n",
       "      <td>0.340</td>\n",
       "      <td>27</td>\n",
       "      <td>0</td>\n",
       "    </tr>\n",
       "    <tr>\n",
       "      <th>765</th>\n",
       "      <td>5</td>\n",
       "      <td>121</td>\n",
       "      <td>72</td>\n",
       "      <td>23</td>\n",
       "      <td>112</td>\n",
       "      <td>26.2</td>\n",
       "      <td>0.245</td>\n",
       "      <td>30</td>\n",
       "      <td>0</td>\n",
       "    </tr>\n",
       "    <tr>\n",
       "      <th>766</th>\n",
       "      <td>1</td>\n",
       "      <td>126</td>\n",
       "      <td>60</td>\n",
       "      <td>0</td>\n",
       "      <td>0</td>\n",
       "      <td>30.1</td>\n",
       "      <td>0.349</td>\n",
       "      <td>47</td>\n",
       "      <td>1</td>\n",
       "    </tr>\n",
       "    <tr>\n",
       "      <th>767</th>\n",
       "      <td>1</td>\n",
       "      <td>93</td>\n",
       "      <td>70</td>\n",
       "      <td>31</td>\n",
       "      <td>0</td>\n",
       "      <td>30.4</td>\n",
       "      <td>0.315</td>\n",
       "      <td>23</td>\n",
       "      <td>0</td>\n",
       "    </tr>\n",
       "  </tbody>\n",
       "</table>\n",
       "<p>768 rows × 9 columns</p>\n",
       "</div>"
      ],
      "text/plain": [
       "     Pregnancies  Glucose  BloodPressure  SkinThickness  Insulin   BMI  \\\n",
       "0              6      148             72             35        0  33.6   \n",
       "1              1       85             66             29        0  26.6   \n",
       "2              8      183             64              0        0  23.3   \n",
       "3              1       89             66             23       94  28.1   \n",
       "4              0      137             40             35      168  43.1   \n",
       "..           ...      ...            ...            ...      ...   ...   \n",
       "763           10      101             76             48      180  32.9   \n",
       "764            2      122             70             27        0  36.8   \n",
       "765            5      121             72             23      112  26.2   \n",
       "766            1      126             60              0        0  30.1   \n",
       "767            1       93             70             31        0  30.4   \n",
       "\n",
       "     DiabetesPedigreeFunction  Age  Outcome  \n",
       "0                       0.627   50        1  \n",
       "1                       0.351   31        0  \n",
       "2                       0.672   32        1  \n",
       "3                       0.167   21        0  \n",
       "4                       2.288   33        1  \n",
       "..                        ...  ...      ...  \n",
       "763                     0.171   63        0  \n",
       "764                     0.340   27        0  \n",
       "765                     0.245   30        0  \n",
       "766                     0.349   47        1  \n",
       "767                     0.315   23        0  \n",
       "\n",
       "[768 rows x 9 columns]"
      ]
     },
     "execution_count": 228,
     "metadata": {},
     "output_type": "execute_result"
    }
   ],
   "source": [
    "df"
   ]
  },
  {
   "cell_type": "markdown",
   "id": "98180d00-84b7-44bf-9818-5481a92e4205",
   "metadata": {},
   "source": [
    "<p style=\"font-size: 20px;\"> Baza danych zawiera informację o osobach pod kątem cukrzycy. Kolejne kolumny zawierają następujące informację:</p>\n",
    "<ul>\n",
    "    <li>Pregnancies\t- ilość ciąży</li>\n",
    "    <li>Glucose - stężenie glukozy w osoczu</li>\n",
    "    <li>BloodPressure - ciśnienie krwi(mmHg)</li>\n",
    "    <li>SkinThickness - grubość skóry(mm)</li>\n",
    "    <li>Insulin\t- insulina(mU/ml)</li>\n",
    "    <li>BMI - indeks masy ciała</li>\n",
    "    <li>DiabetesPedigreeFunction - funkcja oceniająca prawdopodobieństwo cukrzycy na podstawie historii rodziny</li>\n",
    "    <li>Age - wiek</li>\n",
    "    <li>Outcome - wartości 1(chory na cukrzycę) lub 0(zdrowy)</li>\n",
    "</ul>"
   ]
  },
  {
   "cell_type": "code",
   "execution_count": 229,
   "id": "5933bc90-cc73-49f3-82c9-b88357685c90",
   "metadata": {},
   "outputs": [
    {
     "data": {
      "text/html": [
       "<div>\n",
       "<style scoped>\n",
       "    .dataframe tbody tr th:only-of-type {\n",
       "        vertical-align: middle;\n",
       "    }\n",
       "\n",
       "    .dataframe tbody tr th {\n",
       "        vertical-align: top;\n",
       "    }\n",
       "\n",
       "    .dataframe thead th {\n",
       "        text-align: right;\n",
       "    }\n",
       "</style>\n",
       "<table border=\"1\" class=\"dataframe\">\n",
       "  <thead>\n",
       "    <tr style=\"text-align: right;\">\n",
       "      <th></th>\n",
       "      <th>Pregnancies</th>\n",
       "      <th>Glucose</th>\n",
       "      <th>BloodPressure</th>\n",
       "      <th>SkinThickness</th>\n",
       "      <th>Insulin</th>\n",
       "      <th>BMI</th>\n",
       "      <th>DiabetesPedigreeFunction</th>\n",
       "      <th>Age</th>\n",
       "      <th>Outcome</th>\n",
       "    </tr>\n",
       "  </thead>\n",
       "  <tbody>\n",
       "    <tr>\n",
       "      <th>count</th>\n",
       "      <td>768.000000</td>\n",
       "      <td>768.000000</td>\n",
       "      <td>768.000000</td>\n",
       "      <td>768.000000</td>\n",
       "      <td>768.000000</td>\n",
       "      <td>768.000000</td>\n",
       "      <td>768.000000</td>\n",
       "      <td>768.000000</td>\n",
       "      <td>768.000000</td>\n",
       "    </tr>\n",
       "    <tr>\n",
       "      <th>mean</th>\n",
       "      <td>3.845052</td>\n",
       "      <td>120.894531</td>\n",
       "      <td>69.105469</td>\n",
       "      <td>20.536458</td>\n",
       "      <td>79.799479</td>\n",
       "      <td>31.992578</td>\n",
       "      <td>0.471876</td>\n",
       "      <td>33.240885</td>\n",
       "      <td>0.348958</td>\n",
       "    </tr>\n",
       "    <tr>\n",
       "      <th>std</th>\n",
       "      <td>3.369578</td>\n",
       "      <td>31.972618</td>\n",
       "      <td>19.355807</td>\n",
       "      <td>15.952218</td>\n",
       "      <td>115.244002</td>\n",
       "      <td>7.884160</td>\n",
       "      <td>0.331329</td>\n",
       "      <td>11.760232</td>\n",
       "      <td>0.476951</td>\n",
       "    </tr>\n",
       "    <tr>\n",
       "      <th>min</th>\n",
       "      <td>0.000000</td>\n",
       "      <td>0.000000</td>\n",
       "      <td>0.000000</td>\n",
       "      <td>0.000000</td>\n",
       "      <td>0.000000</td>\n",
       "      <td>0.000000</td>\n",
       "      <td>0.078000</td>\n",
       "      <td>21.000000</td>\n",
       "      <td>0.000000</td>\n",
       "    </tr>\n",
       "    <tr>\n",
       "      <th>25%</th>\n",
       "      <td>1.000000</td>\n",
       "      <td>99.000000</td>\n",
       "      <td>62.000000</td>\n",
       "      <td>0.000000</td>\n",
       "      <td>0.000000</td>\n",
       "      <td>27.300000</td>\n",
       "      <td>0.243750</td>\n",
       "      <td>24.000000</td>\n",
       "      <td>0.000000</td>\n",
       "    </tr>\n",
       "    <tr>\n",
       "      <th>50%</th>\n",
       "      <td>3.000000</td>\n",
       "      <td>117.000000</td>\n",
       "      <td>72.000000</td>\n",
       "      <td>23.000000</td>\n",
       "      <td>30.500000</td>\n",
       "      <td>32.000000</td>\n",
       "      <td>0.372500</td>\n",
       "      <td>29.000000</td>\n",
       "      <td>0.000000</td>\n",
       "    </tr>\n",
       "    <tr>\n",
       "      <th>75%</th>\n",
       "      <td>6.000000</td>\n",
       "      <td>140.250000</td>\n",
       "      <td>80.000000</td>\n",
       "      <td>32.000000</td>\n",
       "      <td>127.250000</td>\n",
       "      <td>36.600000</td>\n",
       "      <td>0.626250</td>\n",
       "      <td>41.000000</td>\n",
       "      <td>1.000000</td>\n",
       "    </tr>\n",
       "    <tr>\n",
       "      <th>max</th>\n",
       "      <td>17.000000</td>\n",
       "      <td>199.000000</td>\n",
       "      <td>122.000000</td>\n",
       "      <td>99.000000</td>\n",
       "      <td>846.000000</td>\n",
       "      <td>67.100000</td>\n",
       "      <td>2.420000</td>\n",
       "      <td>81.000000</td>\n",
       "      <td>1.000000</td>\n",
       "    </tr>\n",
       "  </tbody>\n",
       "</table>\n",
       "</div>"
      ],
      "text/plain": [
       "       Pregnancies     Glucose  BloodPressure  SkinThickness     Insulin  \\\n",
       "count   768.000000  768.000000     768.000000     768.000000  768.000000   \n",
       "mean      3.845052  120.894531      69.105469      20.536458   79.799479   \n",
       "std       3.369578   31.972618      19.355807      15.952218  115.244002   \n",
       "min       0.000000    0.000000       0.000000       0.000000    0.000000   \n",
       "25%       1.000000   99.000000      62.000000       0.000000    0.000000   \n",
       "50%       3.000000  117.000000      72.000000      23.000000   30.500000   \n",
       "75%       6.000000  140.250000      80.000000      32.000000  127.250000   \n",
       "max      17.000000  199.000000     122.000000      99.000000  846.000000   \n",
       "\n",
       "              BMI  DiabetesPedigreeFunction         Age     Outcome  \n",
       "count  768.000000                768.000000  768.000000  768.000000  \n",
       "mean    31.992578                  0.471876   33.240885    0.348958  \n",
       "std      7.884160                  0.331329   11.760232    0.476951  \n",
       "min      0.000000                  0.078000   21.000000    0.000000  \n",
       "25%     27.300000                  0.243750   24.000000    0.000000  \n",
       "50%     32.000000                  0.372500   29.000000    0.000000  \n",
       "75%     36.600000                  0.626250   41.000000    1.000000  \n",
       "max     67.100000                  2.420000   81.000000    1.000000  "
      ]
     },
     "execution_count": 229,
     "metadata": {},
     "output_type": "execute_result"
    }
   ],
   "source": [
    "df.describe()"
   ]
  },
  {
   "cell_type": "markdown",
   "id": "b717dca6-e1a9-4997-88e9-827aaf1d79bc",
   "metadata": {},
   "source": [
    "<h1>Usunięcie wierszy, w których wartości wynoszą 0(poza takimi gdzie wartość 0 nie oznacza braku informacji).</h1>"
   ]
  },
  {
   "cell_type": "code",
   "execution_count": 230,
   "id": "f2f97d11-bc21-4ea0-b969-2efeeb328e0d",
   "metadata": {},
   "outputs": [],
   "source": [
    "df = df[(df['Glucose'] != 0) & (df['BloodPressure'] != 0) & (df['SkinThickness'] != 0) & (df['Insulin'] != 0) & (df['BMI'] != 0)]"
   ]
  },
  {
   "cell_type": "code",
   "execution_count": 231,
   "id": "35fc07fb-e979-485d-aa22-dc268ce9097a",
   "metadata": {},
   "outputs": [
    {
     "data": {
      "text/html": [
       "<div>\n",
       "<style scoped>\n",
       "    .dataframe tbody tr th:only-of-type {\n",
       "        vertical-align: middle;\n",
       "    }\n",
       "\n",
       "    .dataframe tbody tr th {\n",
       "        vertical-align: top;\n",
       "    }\n",
       "\n",
       "    .dataframe thead th {\n",
       "        text-align: right;\n",
       "    }\n",
       "</style>\n",
       "<table border=\"1\" class=\"dataframe\">\n",
       "  <thead>\n",
       "    <tr style=\"text-align: right;\">\n",
       "      <th></th>\n",
       "      <th>Pregnancies</th>\n",
       "      <th>Glucose</th>\n",
       "      <th>BloodPressure</th>\n",
       "      <th>SkinThickness</th>\n",
       "      <th>Insulin</th>\n",
       "      <th>BMI</th>\n",
       "      <th>DiabetesPedigreeFunction</th>\n",
       "      <th>Age</th>\n",
       "      <th>Outcome</th>\n",
       "    </tr>\n",
       "  </thead>\n",
       "  <tbody>\n",
       "    <tr>\n",
       "      <th>3</th>\n",
       "      <td>1</td>\n",
       "      <td>89</td>\n",
       "      <td>66</td>\n",
       "      <td>23</td>\n",
       "      <td>94</td>\n",
       "      <td>28.1</td>\n",
       "      <td>0.167</td>\n",
       "      <td>21</td>\n",
       "      <td>0</td>\n",
       "    </tr>\n",
       "    <tr>\n",
       "      <th>4</th>\n",
       "      <td>0</td>\n",
       "      <td>137</td>\n",
       "      <td>40</td>\n",
       "      <td>35</td>\n",
       "      <td>168</td>\n",
       "      <td>43.1</td>\n",
       "      <td>2.288</td>\n",
       "      <td>33</td>\n",
       "      <td>1</td>\n",
       "    </tr>\n",
       "    <tr>\n",
       "      <th>6</th>\n",
       "      <td>3</td>\n",
       "      <td>78</td>\n",
       "      <td>50</td>\n",
       "      <td>32</td>\n",
       "      <td>88</td>\n",
       "      <td>31.0</td>\n",
       "      <td>0.248</td>\n",
       "      <td>26</td>\n",
       "      <td>1</td>\n",
       "    </tr>\n",
       "    <tr>\n",
       "      <th>8</th>\n",
       "      <td>2</td>\n",
       "      <td>197</td>\n",
       "      <td>70</td>\n",
       "      <td>45</td>\n",
       "      <td>543</td>\n",
       "      <td>30.5</td>\n",
       "      <td>0.158</td>\n",
       "      <td>53</td>\n",
       "      <td>1</td>\n",
       "    </tr>\n",
       "    <tr>\n",
       "      <th>13</th>\n",
       "      <td>1</td>\n",
       "      <td>189</td>\n",
       "      <td>60</td>\n",
       "      <td>23</td>\n",
       "      <td>846</td>\n",
       "      <td>30.1</td>\n",
       "      <td>0.398</td>\n",
       "      <td>59</td>\n",
       "      <td>1</td>\n",
       "    </tr>\n",
       "    <tr>\n",
       "      <th>...</th>\n",
       "      <td>...</td>\n",
       "      <td>...</td>\n",
       "      <td>...</td>\n",
       "      <td>...</td>\n",
       "      <td>...</td>\n",
       "      <td>...</td>\n",
       "      <td>...</td>\n",
       "      <td>...</td>\n",
       "      <td>...</td>\n",
       "    </tr>\n",
       "    <tr>\n",
       "      <th>753</th>\n",
       "      <td>0</td>\n",
       "      <td>181</td>\n",
       "      <td>88</td>\n",
       "      <td>44</td>\n",
       "      <td>510</td>\n",
       "      <td>43.3</td>\n",
       "      <td>0.222</td>\n",
       "      <td>26</td>\n",
       "      <td>1</td>\n",
       "    </tr>\n",
       "    <tr>\n",
       "      <th>755</th>\n",
       "      <td>1</td>\n",
       "      <td>128</td>\n",
       "      <td>88</td>\n",
       "      <td>39</td>\n",
       "      <td>110</td>\n",
       "      <td>36.5</td>\n",
       "      <td>1.057</td>\n",
       "      <td>37</td>\n",
       "      <td>1</td>\n",
       "    </tr>\n",
       "    <tr>\n",
       "      <th>760</th>\n",
       "      <td>2</td>\n",
       "      <td>88</td>\n",
       "      <td>58</td>\n",
       "      <td>26</td>\n",
       "      <td>16</td>\n",
       "      <td>28.4</td>\n",
       "      <td>0.766</td>\n",
       "      <td>22</td>\n",
       "      <td>0</td>\n",
       "    </tr>\n",
       "    <tr>\n",
       "      <th>763</th>\n",
       "      <td>10</td>\n",
       "      <td>101</td>\n",
       "      <td>76</td>\n",
       "      <td>48</td>\n",
       "      <td>180</td>\n",
       "      <td>32.9</td>\n",
       "      <td>0.171</td>\n",
       "      <td>63</td>\n",
       "      <td>0</td>\n",
       "    </tr>\n",
       "    <tr>\n",
       "      <th>765</th>\n",
       "      <td>5</td>\n",
       "      <td>121</td>\n",
       "      <td>72</td>\n",
       "      <td>23</td>\n",
       "      <td>112</td>\n",
       "      <td>26.2</td>\n",
       "      <td>0.245</td>\n",
       "      <td>30</td>\n",
       "      <td>0</td>\n",
       "    </tr>\n",
       "  </tbody>\n",
       "</table>\n",
       "<p>392 rows × 9 columns</p>\n",
       "</div>"
      ],
      "text/plain": [
       "     Pregnancies  Glucose  BloodPressure  SkinThickness  Insulin   BMI  \\\n",
       "3              1       89             66             23       94  28.1   \n",
       "4              0      137             40             35      168  43.1   \n",
       "6              3       78             50             32       88  31.0   \n",
       "8              2      197             70             45      543  30.5   \n",
       "13             1      189             60             23      846  30.1   \n",
       "..           ...      ...            ...            ...      ...   ...   \n",
       "753            0      181             88             44      510  43.3   \n",
       "755            1      128             88             39      110  36.5   \n",
       "760            2       88             58             26       16  28.4   \n",
       "763           10      101             76             48      180  32.9   \n",
       "765            5      121             72             23      112  26.2   \n",
       "\n",
       "     DiabetesPedigreeFunction  Age  Outcome  \n",
       "3                       0.167   21        0  \n",
       "4                       2.288   33        1  \n",
       "6                       0.248   26        1  \n",
       "8                       0.158   53        1  \n",
       "13                      0.398   59        1  \n",
       "..                        ...  ...      ...  \n",
       "753                     0.222   26        1  \n",
       "755                     1.057   37        1  \n",
       "760                     0.766   22        0  \n",
       "763                     0.171   63        0  \n",
       "765                     0.245   30        0  \n",
       "\n",
       "[392 rows x 9 columns]"
      ]
     },
     "execution_count": 231,
     "metadata": {},
     "output_type": "execute_result"
    }
   ],
   "source": [
    "df"
   ]
  },
  {
   "cell_type": "code",
   "execution_count": 232,
   "id": "77962d60-3d8a-4397-820f-1986d1583488",
   "metadata": {},
   "outputs": [
    {
     "data": {
      "text/html": [
       "<div>\n",
       "<style scoped>\n",
       "    .dataframe tbody tr th:only-of-type {\n",
       "        vertical-align: middle;\n",
       "    }\n",
       "\n",
       "    .dataframe tbody tr th {\n",
       "        vertical-align: top;\n",
       "    }\n",
       "\n",
       "    .dataframe thead th {\n",
       "        text-align: right;\n",
       "    }\n",
       "</style>\n",
       "<table border=\"1\" class=\"dataframe\">\n",
       "  <thead>\n",
       "    <tr style=\"text-align: right;\">\n",
       "      <th></th>\n",
       "      <th>Pregnancies</th>\n",
       "      <th>Glucose</th>\n",
       "      <th>BloodPressure</th>\n",
       "      <th>SkinThickness</th>\n",
       "      <th>Insulin</th>\n",
       "      <th>BMI</th>\n",
       "      <th>DiabetesPedigreeFunction</th>\n",
       "      <th>Age</th>\n",
       "      <th>Outcome</th>\n",
       "    </tr>\n",
       "  </thead>\n",
       "  <tbody>\n",
       "    <tr>\n",
       "      <th>count</th>\n",
       "      <td>392.000000</td>\n",
       "      <td>392.000000</td>\n",
       "      <td>392.000000</td>\n",
       "      <td>392.000000</td>\n",
       "      <td>392.000000</td>\n",
       "      <td>392.000000</td>\n",
       "      <td>392.000000</td>\n",
       "      <td>392.000000</td>\n",
       "      <td>392.000000</td>\n",
       "    </tr>\n",
       "    <tr>\n",
       "      <th>mean</th>\n",
       "      <td>3.301020</td>\n",
       "      <td>122.627551</td>\n",
       "      <td>70.663265</td>\n",
       "      <td>29.145408</td>\n",
       "      <td>156.056122</td>\n",
       "      <td>33.086224</td>\n",
       "      <td>0.523046</td>\n",
       "      <td>30.864796</td>\n",
       "      <td>0.331633</td>\n",
       "    </tr>\n",
       "    <tr>\n",
       "      <th>std</th>\n",
       "      <td>3.211424</td>\n",
       "      <td>30.860781</td>\n",
       "      <td>12.496092</td>\n",
       "      <td>10.516424</td>\n",
       "      <td>118.841690</td>\n",
       "      <td>7.027659</td>\n",
       "      <td>0.345488</td>\n",
       "      <td>10.200777</td>\n",
       "      <td>0.471401</td>\n",
       "    </tr>\n",
       "    <tr>\n",
       "      <th>min</th>\n",
       "      <td>0.000000</td>\n",
       "      <td>56.000000</td>\n",
       "      <td>24.000000</td>\n",
       "      <td>7.000000</td>\n",
       "      <td>14.000000</td>\n",
       "      <td>18.200000</td>\n",
       "      <td>0.085000</td>\n",
       "      <td>21.000000</td>\n",
       "      <td>0.000000</td>\n",
       "    </tr>\n",
       "    <tr>\n",
       "      <th>25%</th>\n",
       "      <td>1.000000</td>\n",
       "      <td>99.000000</td>\n",
       "      <td>62.000000</td>\n",
       "      <td>21.000000</td>\n",
       "      <td>76.750000</td>\n",
       "      <td>28.400000</td>\n",
       "      <td>0.269750</td>\n",
       "      <td>23.000000</td>\n",
       "      <td>0.000000</td>\n",
       "    </tr>\n",
       "    <tr>\n",
       "      <th>50%</th>\n",
       "      <td>2.000000</td>\n",
       "      <td>119.000000</td>\n",
       "      <td>70.000000</td>\n",
       "      <td>29.000000</td>\n",
       "      <td>125.500000</td>\n",
       "      <td>33.200000</td>\n",
       "      <td>0.449500</td>\n",
       "      <td>27.000000</td>\n",
       "      <td>0.000000</td>\n",
       "    </tr>\n",
       "    <tr>\n",
       "      <th>75%</th>\n",
       "      <td>5.000000</td>\n",
       "      <td>143.000000</td>\n",
       "      <td>78.000000</td>\n",
       "      <td>37.000000</td>\n",
       "      <td>190.000000</td>\n",
       "      <td>37.100000</td>\n",
       "      <td>0.687000</td>\n",
       "      <td>36.000000</td>\n",
       "      <td>1.000000</td>\n",
       "    </tr>\n",
       "    <tr>\n",
       "      <th>max</th>\n",
       "      <td>17.000000</td>\n",
       "      <td>198.000000</td>\n",
       "      <td>110.000000</td>\n",
       "      <td>63.000000</td>\n",
       "      <td>846.000000</td>\n",
       "      <td>67.100000</td>\n",
       "      <td>2.420000</td>\n",
       "      <td>81.000000</td>\n",
       "      <td>1.000000</td>\n",
       "    </tr>\n",
       "  </tbody>\n",
       "</table>\n",
       "</div>"
      ],
      "text/plain": [
       "       Pregnancies     Glucose  BloodPressure  SkinThickness     Insulin  \\\n",
       "count   392.000000  392.000000     392.000000     392.000000  392.000000   \n",
       "mean      3.301020  122.627551      70.663265      29.145408  156.056122   \n",
       "std       3.211424   30.860781      12.496092      10.516424  118.841690   \n",
       "min       0.000000   56.000000      24.000000       7.000000   14.000000   \n",
       "25%       1.000000   99.000000      62.000000      21.000000   76.750000   \n",
       "50%       2.000000  119.000000      70.000000      29.000000  125.500000   \n",
       "75%       5.000000  143.000000      78.000000      37.000000  190.000000   \n",
       "max      17.000000  198.000000     110.000000      63.000000  846.000000   \n",
       "\n",
       "              BMI  DiabetesPedigreeFunction         Age     Outcome  \n",
       "count  392.000000                392.000000  392.000000  392.000000  \n",
       "mean    33.086224                  0.523046   30.864796    0.331633  \n",
       "std      7.027659                  0.345488   10.200777    0.471401  \n",
       "min     18.200000                  0.085000   21.000000    0.000000  \n",
       "25%     28.400000                  0.269750   23.000000    0.000000  \n",
       "50%     33.200000                  0.449500   27.000000    0.000000  \n",
       "75%     37.100000                  0.687000   36.000000    1.000000  \n",
       "max     67.100000                  2.420000   81.000000    1.000000  "
      ]
     },
     "execution_count": 232,
     "metadata": {},
     "output_type": "execute_result"
    }
   ],
   "source": [
    "df.describe()"
   ]
  },
  {
   "cell_type": "code",
   "execution_count": 233,
   "id": "ceabff12-3043-4f4f-a88e-700eb5f7bda2",
   "metadata": {},
   "outputs": [],
   "source": [
    "def normality_plots(data):\n",
    "    for i in range(data.shape[1] - 1):\n",
    "        column_name = data.columns[i]\n",
    "        plt.hist(data[column_name], bins=30, color='lightgreen', edgecolor='black')\n",
    "        plt.title(f'Histogram - {column_name}')\n",
    "        plt.xlabel(column_name)\n",
    "        plt.ylabel('Frequency')\n",
    "        plt.show()"
   ]
  },
  {
   "cell_type": "markdown",
   "id": "1badfc26-2f94-4bf7-9e6f-344c7a1cbaab",
   "metadata": {},
   "source": [
    "<h1>Sprawdzenie normalności zmiennych</h1>"
   ]
  },
  {
   "cell_type": "code",
   "execution_count": 234,
   "id": "bfb0ca47-fb3f-4b3b-beca-3e71686ac36f",
   "metadata": {},
   "outputs": [
    {
     "data": {
      "image/png": "[encoded data removed]",
      "text/plain": [
       "<Figure size 640x480 with 1 Axes>"
      ]
     },
     "metadata": {},
     "output_type": "display_data"
    },
    {
     "data": {
      "image/png": "[encoded data removed]",
      "text/plain": [
       "<Figure size 640x480 with 1 Axes>"
      ]
     },
     "metadata": {},
     "output_type": "display_data"
    },
    {
     "data": {
      "image/png": "[encoded data removed]",
      "text/plain": [
       "<Figure size 640x480 with 1 Axes>"
      ]
     },
     "metadata": {},
     "output_type": "display_data"
    },
    {
     "data": {
      "image/png": "[encoded data removed]",
      "text/plain": [
       "<Figure size 640x480 with 1 Axes>"
      ]
     },
     "metadata": {},
     "output_type": "display_data"
    },
    {
     "data": {
      "image/png": "[encoded data removed]",
      "text/plain": [
       "<Figure size 640x480 with 1 Axes>"
      ]
     },
     "metadata": {},
     "output_type": "display_data"
    },
    {
     "data": {
      "image/png": "[encoded data removed]",
      "text/plain": [
       "<Figure size 640x480 with 1 Axes>"
      ]
     },
     "metadata": {},
     "output_type": "display_data"
    },
    {
     "data": {
      "image/png": "[encoded data removed]",
      "text/plain": [
       "<Figure size 640x480 with 1 Axes>"
      ]
     },
     "metadata": {},
     "output_type": "display_data"
    },
    {
     "data": {
      "image/png": "[encoded data removed]",
      "text/plain": [
       "<Figure size 640x480 with 1 Axes>"
      ]
     },
     "metadata": {},
     "output_type": "display_data"
    }
   ],
   "source": [
    "normality_plots(df)"
   ]
  },
  {
   "cell_type": "markdown",
   "id": "43f676d1-c425-4d3f-9b32-6102cbb6d1b1",
   "metadata": {},
   "source": [
    "<p style=\"font-size:20px;\">Widzimy, że nasze zmienne nie mają rozkładu normalnego.</p>"
   ]
  },
  {
   "cell_type": "code",
   "execution_count": 235,
   "id": "292ff94a-0423-459e-9d47-810da8df6d5a",
   "metadata": {},
   "outputs": [],
   "source": [
    "np.set_printoptions(suppress=True) "
   ]
  },
  {
   "cell_type": "markdown",
   "id": "8ffad346-7e0b-4968-bd13-7831dc511034",
   "metadata": {},
   "source": [
    "<h1>Dzielimy dane na 2 grupy: osoby mające cukrzycę i osoby bez cukrzycy</h1>"
   ]
  },
  {
   "cell_type": "code",
   "execution_count": 236,
   "id": "ecc1f282-13c2-4431-a6d7-093b0376fb85",
   "metadata": {},
   "outputs": [],
   "source": [
    "diabetes = df[df.Outcome == 1]\n",
    "no_diabetes = df[df.Outcome == 0]"
   ]
  },
  {
   "cell_type": "markdown",
   "id": "110d25b2-9283-46b5-a5d2-d8c1e4374a54",
   "metadata": {},
   "source": [
    "<h1>Test Levene'a i test t-Studenta dla kolumny <strong><em>Pregnancies</em></strong> </h1>"
   ]
  },
  {
   "cell_type": "code",
   "execution_count": 237,
   "id": "9e42fca0-3ebd-49a4-9b6e-dcd4e1a55993",
   "metadata": {},
   "outputs": [],
   "source": [
    "diabetes_pregnancies = diabetes['Pregnancies']\n",
    "no_diabetes_pregnancies = no_diabetes['Pregnancies']"
   ]
  },
  {
   "cell_type": "code",
   "execution_count": 238,
   "id": "1669dcf8-3a51-4a87-8b9f-bc9fa753d5ee",
   "metadata": {},
   "outputs": [
    {
     "name": "stdout",
     "output_type": "stream",
     "text": [
      "Test Levene'a:\n",
      "Statystyka = 28.6528603813\n",
      "P-wartość = 0.0000001481\n"
     ]
    }
   ],
   "source": [
    "stat, p = levene(diabetes_pregnancies, no_diabetes_pregnancies)\n",
    "print(\"Test Levene'a:\")\n",
    "print(f\"Statystyka = {stat:.10f}\")\n",
    "print(f\"P-wartość = {p:.10f}\")"
   ]
  },
  {
   "cell_type": "code",
   "execution_count": 239,
   "id": "f14c803f-4857-4701-91e9-a617517157fd",
   "metadata": {},
   "outputs": [
    {
     "name": "stdout",
     "output_type": "stream",
     "text": [
      "Test t-Studenta:\n",
      "Statystyka t: 4.6039598339\n",
      "P-wartość: 0.0000076182\n",
      "Średnia ilość ciąży osób chorych na cukrzycę: 4.4692307692\n",
      "Średnia ilość ciąży osób zdrowych: 2.7213740458\n"
     ]
    }
   ],
   "source": [
    "t_stat, p_value = ttest_ind(diabetes_pregnancies, no_diabetes_pregnancies, equal_var=False)\n",
    "mean1 = np.mean(diabetes_pregnancies)\n",
    "mean2 = np.mean(no_diabetes_pregnancies)\n",
    "\n",
    "print(\"Test t-Studenta:\")\n",
    "print(f\"Statystyka t: {t_stat:.10f}\")\n",
    "print(f\"P-wartość: {p_value:.10f}\")\n",
    "print(f\"Średnia ilość ciąży osób chorych na cukrzycę: {mean1:.10f}\")\n",
    "print(f\"Średnia ilość ciąży osób zdrowych: {mean2:.10f}\")"
   ]
  },
  {
   "cell_type": "markdown",
   "id": "e9c08f2e-600d-425d-87fe-79392d8b3a0e",
   "metadata": {},
   "source": [
    "<p style=\"font-size:20px;\">\n",
    "Widzimy, że wartość p w teście Levene'a jest mniejsza niż 0,05, więc wariancje dla zmiennej <strong><em>Pregnancies</em></strong> są różne. Dlatego w teście t-Studenta używamy <strong><em>equal_var=False</em></strong>. Wartość p w teście t-Studenta jest mniejsza niż 0,05, więc różnica między średnimi jest istotna statystycznie.\n",
    "</p>"
   ]
  },
  {
   "cell_type": "markdown",
   "id": "ebaf69cc-f1dc-4c8e-8648-ab4469430823",
   "metadata": {},
   "source": [
    "<h1>Test Levene'a i test t-Studenta dla kolumny <strong><em>Glucose</em></strong> </h1>"
   ]
  },
  {
   "cell_type": "code",
   "execution_count": 240,
   "id": "f3410ef0-9366-419f-a9ab-3ebc862ac08b",
   "metadata": {},
   "outputs": [],
   "source": [
    "diabetes_glucose = diabetes['Glucose']\n",
    "no_diabetes_glucose = no_diabetes['Glucose']"
   ]
  },
  {
   "cell_type": "code",
   "execution_count": 241,
   "id": "27e9d1d7-ad20-488e-963b-6cd350cef64f",
   "metadata": {},
   "outputs": [
    {
     "name": "stdout",
     "output_type": "stream",
     "text": [
      "Test Levene'a:\n",
      "Statystyka = 11.5608134708\n",
      "P-wartość = 0.0007431046\n"
     ]
    }
   ],
   "source": [
    "stat, p = levene(diabetes_glucose, no_diabetes_glucose)\n",
    "print(\"Test Levene'a:\")\n",
    "print(f\"Statystyka = {stat:.10f}\")\n",
    "print(f\"P-wartość = {p:.10f}\")"
   ]
  },
  {
   "cell_type": "code",
   "execution_count": 242,
   "id": "c28a9735-f3d8-4724-b49a-9c32ce943e6d",
   "metadata": {},
   "outputs": [
    {
     "name": "stdout",
     "output_type": "stream",
     "text": [
      "Test t-Studenta:\n",
      "Statystyka t: 11.1507912299\n",
      "P-wartość: 0.0000000000\n",
      "Średnia wartość glukozy osób chorych na cukrzycę: 145.1923076923\n",
      "Średnia wartość glukozy osób zdrowych: 111.4312977099\n"
     ]
    }
   ],
   "source": [
    "t_stat, p_value = ttest_ind(diabetes_glucose, no_diabetes_glucose, equal_var=False)\n",
    "mean1 = np.mean(diabetes_glucose)\n",
    "mean2 = np.mean(no_diabetes_glucose)\n",
    "\n",
    "print(\"Test t-Studenta:\")\n",
    "print(f\"Statystyka t: {t_stat:.10f}\")\n",
    "print(f\"P-wartość: {p_value:.10f}\")\n",
    "print(f\"Średnia wartość glukozy osób chorych na cukrzycę: {mean1:.10f}\")\n",
    "print(f\"Średnia wartość glukozy osób zdrowych: {mean2:.10f}\")"
   ]
  },
  {
   "cell_type": "markdown",
   "id": "37f39df6-c7c2-4642-9487-52dc0f7167a1",
   "metadata": {},
   "source": [
    "<p style=\"font-size:20px;\">\n",
    "Widzimy, że wartość p w teście Levene'a jest mniejsza niż 0,05, więc wariancje dla zmiennej <strong><em>Glucose</em></strong> są różne. Dlatego w teście t-Studenta używamy <strong><em>equal_var=False</em></strong>. Wartość p w teście t-Studenta jest mniejsza niż 0,05, więc różnica między średnimi jest istotna statystycznie.\n",
    "</p>"
   ]
  },
  {
   "cell_type": "markdown",
   "id": "fc81f0e5-2bbb-43e0-b907-a0e5a883b52d",
   "metadata": {},
   "source": [
    "<h1>Test Levene'a i test t-Studenta dla kolumny <strong><em>BloodPressure</em></strong> </h1>"
   ]
  },
  {
   "cell_type": "code",
   "execution_count": 243,
   "id": "99420a56-b851-443e-ab82-e7ee3918b698",
   "metadata": {},
   "outputs": [],
   "source": [
    "diabetes_bloodpressure = diabetes['BloodPressure']\n",
    "no_diabetes_bloodpressure = no_diabetes['BloodPressure']"
   ]
  },
  {
   "cell_type": "code",
   "execution_count": 244,
   "id": "dbcb8ad6-ee7a-4d7d-b5bd-238d5f932a54",
   "metadata": {},
   "outputs": [
    {
     "name": "stdout",
     "output_type": "stream",
     "text": [
      "Test Levene'a:\n",
      "Statystyka = 0.5761361300\n",
      "P-wartość = 0.4482893337\n"
     ]
    }
   ],
   "source": [
    "stat, p = levene(diabetes_bloodpressure, no_diabetes_bloodpressure)\n",
    "print(\"Test Levene'a:\")\n",
    "print(f\"Statystyka = {stat:.10f}\")\n",
    "print(f\"P-wartość = {p:.10f}\")"
   ]
  },
  {
   "cell_type": "code",
   "execution_count": 245,
   "id": "0ab4cd44-d101-4a48-bfd5-9a3a26ed522c",
   "metadata": {},
   "outputs": [
    {
     "name": "stdout",
     "output_type": "stream",
     "text": [
      "Test t-Studenta:\n",
      "Statystyka t: 3.8776478026\n",
      "P-wartość: 0.0001237479\n",
      "Średnia wartość ciśnienia krwi osób chorych na cukrzycę: 74.0769230769\n",
      "Średnia wartość ciśnienia krwi osób zdrowych: 68.9694656489\n"
     ]
    }
   ],
   "source": [
    "t_stat, p_value = ttest_ind(diabetes_bloodpressure, no_diabetes_bloodpressure)\n",
    "mean1 = np.mean(diabetes_bloodpressure)\n",
    "mean2 = np.mean(no_diabetes_bloodpressure)\n",
    "\n",
    "print(\"Test t-Studenta:\")\n",
    "print(f\"Statystyka t: {t_stat:.10f}\")\n",
    "print(f\"P-wartość: {p_value:.10f}\")\n",
    "print(f\"Średnia wartość ciśnienia krwi osób chorych na cukrzycę: {mean1:.10f}\")\n",
    "print(f\"Średnia wartość ciśnienia krwi osób zdrowych: {mean2:.10f}\")"
   ]
  },
  {
   "cell_type": "markdown",
   "id": "62a7bc1d-5bb6-4b49-8e2e-4ba6d9a3e34d",
   "metadata": {},
   "source": [
    "<p style=\"font-size:20px;\">\n",
    "Widzimy, że wartość p w teście Levene'a jest większa niż 0,05, więc wariancje dla zmiennej <strong><em>BloodPressure</em></strong> są podobne. Dlatego w teście t-Studenta nie używamy <strong><em>equal_var=False</em></strong>. Wartość p w teście t-Studenta jest mniejsza niż 0,05, więc różnica między średnimi jest istotna statystycznie.\n",
    "</p>"
   ]
  },
  {
   "cell_type": "markdown",
   "id": "aeb07b38-f4e8-460f-b8b2-92eacd6240bb",
   "metadata": {},
   "source": [
    "<h1>Test Levene'a i test t-Studenta dla kolumny <strong><em>SkinThickness</em></strong> </h1>"
   ]
  },
  {
   "cell_type": "code",
   "execution_count": 246,
   "id": "f151e5b3-9fb9-4fb9-b5de-ee64e5f23727",
   "metadata": {},
   "outputs": [],
   "source": [
    "diabetes_skinthickness = diabetes['SkinThickness']\n",
    "no_diabetes_skinthickness = no_diabetes['SkinThickness']"
   ]
  },
  {
   "cell_type": "code",
   "execution_count": 247,
   "id": "b3f96b58-726c-415e-a26e-c810ab13f7ac",
   "metadata": {},
   "outputs": [
    {
     "name": "stdout",
     "output_type": "stream",
     "text": [
      "Test Levene'a:\n",
      "Statystyka = 2.1244432478\n",
      "P-wartość = 0.1457701760\n"
     ]
    }
   ],
   "source": [
    "stat, p = levene(diabetes_skinthickness, no_diabetes_skinthickness)\n",
    "print(\"Test Levene'a:\")\n",
    "print(f\"Statystyka = {stat:.10f}\")\n",
    "print(f\"P-wartość = {p:.10f}\")"
   ]
  },
  {
   "cell_type": "code",
   "execution_count": 248,
   "id": "0e62cf12-74b8-49f5-ae28-29054599fc00",
   "metadata": {},
   "outputs": [
    {
     "name": "stdout",
     "output_type": "stream",
     "text": [
      "Test t-Studenta:\n",
      "Statystyka t: 5.2284644635\n",
      "P-wartość: 0.0000002793\n",
      "Średnia wartość grubości skóry osób chorych na cukrzycę: 32.9615384615\n",
      "Średnia wartość grubości skóry osób zdrowych: 27.2519083969\n"
     ]
    }
   ],
   "source": [
    "t_stat, p_value = ttest_ind(diabetes_skinthickness, no_diabetes_skinthickness)\n",
    "mean1 = np.mean(diabetes_skinthickness)\n",
    "mean2 = np.mean(no_diabetes_skinthickness)\n",
    "\n",
    "print(\"Test t-Studenta:\")\n",
    "print(f\"Statystyka t: {t_stat:.10f}\")\n",
    "print(f\"P-wartość: {p_value:.10f}\")\n",
    "print(f\"Średnia wartość grubości skóry osób chorych na cukrzycę: {mean1:.10f}\")\n",
    "print(f\"Średnia wartość grubości skóry osób zdrowych: {mean2:.10f}\")"
   ]
  },
  {
   "cell_type": "markdown",
   "id": "2bf1fe59-11ff-4e56-934e-be5b69ceab14",
   "metadata": {},
   "source": [
    "<p style=\"font-size:20px;\">\n",
    "Widzimy, że wartość p w teście Levene'a jest większa niż 0,05, więc wariancje dla zmiennej <strong><em>SkinThickness</em></strong> są podobne. Dlatego w teście t-Studenta nie używamy <strong><em>equal_var=False</em></strong>. Wartość p w teście t-Studenta jest mniejsza niż 0,05, więc różnica między średnimi jest istotna statystycznie.\n",
    "</p>"
   ]
  },
  {
   "cell_type": "markdown",
   "id": "161a6fc7-ddc0-4aef-bbcf-1ea4eb9be2b8",
   "metadata": {},
   "source": [
    "<h1>Test Levene'a i test t-Studenta dla kolumny <strong><em>Insulin</em></strong> </h1>"
   ]
  },
  {
   "cell_type": "code",
   "execution_count": 249,
   "id": "5aa5825d-348a-468a-9fa5-5706de2e7dcd",
   "metadata": {},
   "outputs": [],
   "source": [
    "diabetes_insulin = diabetes['Insulin']\n",
    "no_diabetes_insulin = no_diabetes['Insulin']"
   ]
  },
  {
   "cell_type": "code",
   "execution_count": 250,
   "id": "52e07f67-f459-4d3c-88d2-7cc31974c6b0",
   "metadata": {},
   "outputs": [
    {
     "name": "stdout",
     "output_type": "stream",
     "text": [
      "Test Levene'a:\n",
      "Statystyka = 4.7765009488\n",
      "P-wartość = 0.0294449084\n"
     ]
    }
   ],
   "source": [
    "stat, p = levene(diabetes_insulin, no_diabetes_insulin)\n",
    "print(\"Test Levene'a:\")\n",
    "print(f\"Statystyka = {stat:.10f}\")\n",
    "print(f\"P-wartość = {p:.10f}\")"
   ]
  },
  {
   "cell_type": "code",
   "execution_count": 251,
   "id": "e4933d6a-3906-44bc-b5db-dd48aaab2a26",
   "metadata": {},
   "outputs": [
    {
     "name": "stdout",
     "output_type": "stream",
     "text": [
      "Test t-Studenta:\n",
      "Statystyka t: 5.7336765319\n",
      "P-wartość: 0.0000000343\n",
      "Średnia wartość insuliny osób chorych na cukrzycę: 206.8461538462\n",
      "Średnia wartość insuliny osób zdrowych: 130.8549618321\n"
     ]
    }
   ],
   "source": [
    "t_stat, p_value = ttest_ind(diabetes_insulin, no_diabetes_insulin, equal_var=False)\n",
    "mean1 = np.mean(diabetes_insulin)\n",
    "mean2 = np.mean(no_diabetes_insulin)\n",
    "\n",
    "print(\"Test t-Studenta:\")\n",
    "print(f\"Statystyka t: {t_stat:.10f}\")\n",
    "print(f\"P-wartość: {p_value:.10f}\")\n",
    "print(f\"Średnia wartość insuliny osób chorych na cukrzycę: {mean1:.10f}\")\n",
    "print(f\"Średnia wartość insuliny osób zdrowych: {mean2:.10f}\")"
   ]
  },
  {
   "cell_type": "markdown",
   "id": "a375d170-3573-4ab7-92a5-5729bb1390b3",
   "metadata": {},
   "source": [
    "<p style=\"font-size:20px;\">\n",
    "Widzimy, że wartość p w teście Levene'a jest mniejsza niż 0,05, więc wariancje dla zmiennej <strong><em>Insulin</em></strong> są różne. Dlatego w teście t-Studenta używamy <strong><em>equal_var=False</em></strong>. Wartość p w teście t-Studenta jest mniejsza niż 0,05, więc różnica między średnimi jest istotna statystycznie.\n",
    "</p>"
   ]
  },
  {
   "cell_type": "markdown",
   "id": "965f2e39-25df-487b-b46b-ab8f7a0c1351",
   "metadata": {},
   "source": [
    "<h1>Test Levene'a i test t-Studenta dla kolumny <strong><em>BMI</em></strong> </h1>"
   ]
  },
  {
   "cell_type": "code",
   "execution_count": 252,
   "id": "67d8fc3d-d045-4724-a3eb-ab9a8ff81411",
   "metadata": {},
   "outputs": [],
   "source": [
    "diabetes_bmi = diabetes['BMI']\n",
    "no_diabetes_bmi = no_diabetes['BMI']"
   ]
  },
  {
   "cell_type": "code",
   "execution_count": 253,
   "id": "c9b3a692-aeaf-4b9b-8cc8-2e3cc03d14d7",
   "metadata": {},
   "outputs": [
    {
     "name": "stdout",
     "output_type": "stream",
     "text": [
      "Test Levene'a:\n",
      "Statystyka = 2.5325054027\n",
      "P-wartość = 0.1123332126\n"
     ]
    }
   ],
   "source": [
    "stat, p = levene(diabetes_bmi, no_diabetes_bmi)\n",
    "print(\"Test Levene'a:\")\n",
    "print(f\"Statystyka = {stat:.10f}\")\n",
    "print(f\"P-wartość = {p:.10f}\")"
   ]
  },
  {
   "cell_type": "code",
   "execution_count": 254,
   "id": "c94124c8-ac9a-4e16-b64f-54751a8aa76a",
   "metadata": {},
   "outputs": [
    {
     "name": "stdout",
     "output_type": "stream",
     "text": [
      "Test t-Studenta:\n",
      "Statystyka t: 5.5403624465\n",
      "P-wartość: 0.0000000556\n",
      "Średnia wartość BMI osób chorych na cukrzycę: 35.7776923077\n",
      "Średnia wartość BMI osób zdrowych: 31.7507633588\n"
     ]
    }
   ],
   "source": [
    "t_stat, p_value = ttest_ind(diabetes_bmi, no_diabetes_bmi)\n",
    "mean1 = np.mean(diabetes_bmi)\n",
    "mean2 = np.mean(no_diabetes_bmi)\n",
    "\n",
    "print(\"Test t-Studenta:\")\n",
    "print(f\"Statystyka t: {t_stat:.10f}\")\n",
    "print(f\"P-wartość: {p_value:.10f}\")\n",
    "print(f\"Średnia wartość BMI osób chorych na cukrzycę: {mean1:.10f}\")\n",
    "print(f\"Średnia wartość BMI osób zdrowych: {mean2:.10f}\")"
   ]
  },
  {
   "cell_type": "markdown",
   "id": "ae5a3de8-f6c4-43f0-8fb6-352f05cd37cf",
   "metadata": {},
   "source": [
    "<p style=\"font-size:20px;\">\n",
    "Widzimy, że wartość p w teście Levene'a jest większa niż 0,05, więc wariancje dla zmiennej <strong><em>BMI</em></strong> są podobne. Dlatego w teście t-Studenta nie używamy <strong><em>equal_var=False</em></strong>. Wartość p w teście t-Studenta jest mniejsza niż 0,05, więc różnica między średnimi jest istotna statystycznie.\n",
    "</p>"
   ]
  },
  {
   "cell_type": "markdown",
   "id": "6793d5fb-9d8f-4d22-83e3-215d196c020b",
   "metadata": {},
   "source": [
    "<h1>Test Levene'a i test t-Studenta dla kolumny <strong><em>DiabetesPedigreeFunction</em></strong> </h1>"
   ]
  },
  {
   "cell_type": "code",
   "execution_count": 255,
   "id": "42bbbfcc-2d4f-47f9-9efa-18bac88f1063",
   "metadata": {},
   "outputs": [],
   "source": [
    "diabetes_diabetespedigreefunction = diabetes['DiabetesPedigreeFunction']\n",
    "no_diabetes_diabetespedigreefunction = no_diabetes['DiabetesPedigreeFunction']"
   ]
  },
  {
   "cell_type": "code",
   "execution_count": 256,
   "id": "409626a1-d378-4099-bef6-ace784f4738d",
   "metadata": {},
   "outputs": [
    {
     "name": "stdout",
     "output_type": "stream",
     "text": [
      "Test Levene'a:\n",
      "Statystyka = 7.7975985850\n",
      "P-wartość = 0.0054891581\n"
     ]
    }
   ],
   "source": [
    "stat, p = levene(diabetes_diabetespedigreefunction, no_diabetes_diabetespedigreefunction)\n",
    "print(\"Test Levene'a:\")\n",
    "print(f\"Statystyka = {stat:.10f}\")\n",
    "print(f\"P-wartość = {p:.10f}\")"
   ]
  },
  {
   "cell_type": "code",
   "execution_count": 257,
   "id": "c68ac447-7331-436d-9e21-096510347eac",
   "metadata": {},
   "outputs": [
    {
     "name": "stdout",
     "output_type": "stream",
     "text": [
      "Test t-Studenta:\n",
      "Statystyka t: 3.8244628694\n",
      "P-wartość: 0.0001748916\n",
      "Średnia wartość funkcji oceniającej prawdopodobieństwo cukrzycy na podstawie historii rodziny osób chorych na cukrzycę: 0.6255846154\n",
      "Średnia wartość funkcji oceniającej prawdopodobieństwo cukrzycy na podstawie historii rodziny osób zdrowych: 0.4721679389\n"
     ]
    }
   ],
   "source": [
    "t_stat, p_value = ttest_ind(diabetes_diabetespedigreefunction, no_diabetes_diabetespedigreefunction, equal_var=False)\n",
    "mean1 = np.mean(diabetes_diabetespedigreefunction)\n",
    "mean2 = np.mean(no_diabetes_diabetespedigreefunction)\n",
    "\n",
    "print(\"Test t-Studenta:\")\n",
    "print(f\"Statystyka t: {t_stat:.10f}\")\n",
    "print(f\"P-wartość: {p_value:.10f}\")\n",
    "print(f\"Średnia wartość funkcji oceniającej prawdopodobieństwo cukrzycy na podstawie historii rodziny osób chorych na cukrzycę: {mean1:.10f}\")\n",
    "print(f\"Średnia wartość funkcji oceniającej prawdopodobieństwo cukrzycy na podstawie historii rodziny osób zdrowych: {mean2:.10f}\")"
   ]
  },
  {
   "cell_type": "markdown",
   "id": "4bf84792-5d9f-41f8-985d-272c62d8e05e",
   "metadata": {},
   "source": [
    "<p style=\"font-size:20px;\">\n",
    "Widzimy, że wartość p w teście Levene'a jest mniejsza niż 0,05, więc wariancje dla zmiennej <strong><em>DiabetesPedigreeFunction</em></strong> są różne. Dlatego w teście t-Studenta używamy <strong><em>equal_var=False</em></strong>. Wartość p w teście t-Studenta jest mniejsza niż 0,05, więc różnica między średnimi jest istotna statystycznie.\n",
    "</p>"
   ]
  },
  {
   "cell_type": "markdown",
   "id": "a31f8b4d-1389-493f-b6d2-855175250196",
   "metadata": {},
   "source": [
    "<h1>Test Levene'a i test t-Studenta dla kolumny <strong><em>Age</em></strong> </h1>"
   ]
  },
  {
   "cell_type": "code",
   "execution_count": 258,
   "id": "9b79d1a0-1845-4779-a07c-0215c4453046",
   "metadata": {},
   "outputs": [],
   "source": [
    "diabetes_age = diabetes['Age']\n",
    "no_diabetes_age = no_diabetes['Age']"
   ]
  },
  {
   "cell_type": "code",
   "execution_count": 259,
   "id": "81bd123e-23eb-4251-b83d-c8c40f378a44",
   "metadata": {},
   "outputs": [
    {
     "name": "stdout",
     "output_type": "stream",
     "text": [
      "Test Levene'a:\n",
      "Statystyka = 15.1083051327\n",
      "P-wartość = 0.0001192774\n"
     ]
    }
   ],
   "source": [
    "stat, p = levene(diabetes_age, no_diabetes_age)\n",
    "print(\"Test Levene'a:\")\n",
    "print(f\"Statystyka = {stat:.10f}\")\n",
    "print(f\"P-wartość = {p:.10f}\")"
   ]
  },
  {
   "cell_type": "code",
   "execution_count": 260,
   "id": "b113056d-47d0-46a4-bc2b-3c4589c56ec2",
   "metadata": {},
   "outputs": [
    {
     "name": "stdout",
     "output_type": "stream",
     "text": [
      "Test t-Studenta:\n",
      "Statystyka t: 6.9929999569\n",
      "P-wartość: 0.0000000000\n",
      "Średnia wartość wieku osób chorych na cukrzycę: 35.9384615385\n",
      "Średnia wartość wieku osób zdrowych: 28.3473282443\n"
     ]
    }
   ],
   "source": [
    "t_stat, p_value = ttest_ind(diabetes_age, no_diabetes_age, equal_var=False)\n",
    "mean1 = np.mean(diabetes_age)\n",
    "mean2 = np.mean(no_diabetes_age)\n",
    "\n",
    "print(\"Test t-Studenta:\")\n",
    "print(f\"Statystyka t: {t_stat:.10f}\")\n",
    "print(f\"P-wartość: {p_value:.10f}\")\n",
    "print(f\"Średnia wartość wieku osób chorych na cukrzycę: {mean1:.10f}\")\n",
    "print(f\"Średnia wartość wieku osób zdrowych: {mean2:.10f}\")"
   ]
  },
  {
   "cell_type": "markdown",
   "id": "7576ab07-eb60-4e15-9ad5-942776be4211",
   "metadata": {},
   "source": [
    "<p style=\"font-size:20px;\">\n",
    "Widzimy, że wartość p w teście Levene'a jest mniejsza niż 0,05, więc wariancje dla zmiennej <strong><em>Age</em></strong> są różne. Dlatego w teście t-Studenta używamy <strong><em>equal_var=False</em></strong>. Wartość p w teście t-Studenta jest mniejsza niż 0,05, więc różnica między średnimi jest istotna statystycznie.\n",
    "</p>"
   ]
  },
  {
   "cell_type": "markdown",
   "id": "ebfa6533-78ef-43a3-85fc-47da407d2b0e",
   "metadata": {},
   "source": [
    "<h1>Testy nieparametryczne - test Spearmana(badanie zależności pomiędzy zmiennymi liczbowymi)</h1>"
   ]
  },
  {
   "cell_type": "markdown",
   "id": "43a45bfa-63eb-40b0-ab03-d7bb998d0926",
   "metadata": {},
   "source": [
    "<h1>Korelacja pomiędzy <strong><em>Pregnancies</em></strong> a <strong><em>Glucose</em></strong></h1>"
   ]
  },
  {
   "cell_type": "code",
   "execution_count": 261,
   "id": "44a6072a-dac0-4379-9a2b-7167995af636",
   "metadata": {},
   "outputs": [
    {
     "name": "stdout",
     "output_type": "stream",
     "text": [
      "Test Spearmana:\n",
      "Statystyka = 0.1904814787\n",
      "P-wartość = 0.0001481850\n"
     ]
    }
   ],
   "source": [
    "stat, p = spearmanr(df['Pregnancies'], df['Glucose'])\n",
    "print(\"Test Spearmana:\")\n",
    "print(f\"Statystyka = {stat:.10f}\")\n",
    "print(f\"P-wartość = {p:.10f}\")"
   ]
  },
  {
   "cell_type": "markdown",
   "id": "5e950d59-17f4-4bf8-be12-22ec009a7460",
   "metadata": {},
   "source": [
    "<p style=\"font-size:20px;\">Zmienne są słabo, ale istotnie dodatnio skorelowane.</p>"
   ]
  },
  {
   "cell_type": "markdown",
   "id": "59fdc16e-bf9c-48da-94c7-482f74749378",
   "metadata": {},
   "source": [
    "<h1>Korelacja pomiędzy <strong><em>Pregnancies</em></strong> a <strong><em>BloodPressure</em></strong></h1>"
   ]
  },
  {
   "cell_type": "code",
   "execution_count": 262,
   "id": "29cc5d1a-e056-4a10-af46-7002f50ab47d",
   "metadata": {},
   "outputs": [
    {
     "name": "stdout",
     "output_type": "stream",
     "text": [
      "Test Spearmana:\n",
      "Statystyka = 0.1524140397\n",
      "P-wartość = 0.0024805547\n"
     ]
    }
   ],
   "source": [
    "stat, p = spearmanr(df['Pregnancies'], df['BloodPressure'])\n",
    "print(\"Test Spearmana:\")\n",
    "print(f\"Statystyka = {stat:.10f}\")\n",
    "print(f\"P-wartość = {p:.10f}\")"
   ]
  },
  {
   "cell_type": "markdown",
   "id": "e0b6294a-8dc7-4b4c-aca2-1626fe0a23d2",
   "metadata": {},
   "source": [
    "<p style=\"font-size:20px;\">Zmienne są słabo, ale istotnie dodatnio skorelowane.</p>"
   ]
  },
  {
   "cell_type": "markdown",
   "id": "49ba23bb-cdc1-492f-b84f-68d01f46458f",
   "metadata": {},
   "source": [
    "<h1>Korelacja pomiędzy <strong><em>Pregnancies</em></strong> a <strong><em>SkinThickness</em></strong></h1>"
   ]
  },
  {
   "cell_type": "code",
   "execution_count": 263,
   "id": "2e5c7fa8-2cf6-4359-b8a6-4cb89e8f9447",
   "metadata": {},
   "outputs": [
    {
     "name": "stdout",
     "output_type": "stream",
     "text": [
      "Test Spearmana:\n",
      "Statystyka = 0.0547586808\n",
      "P-wartość = 0.2794676753\n"
     ]
    }
   ],
   "source": [
    "stat, p = spearmanr(df['Pregnancies'], df['SkinThickness'])\n",
    "print(\"Test Spearmana:\")\n",
    "print(f\"Statystyka = {stat:.10f}\")\n",
    "print(f\"P-wartość = {p:.10f}\")"
   ]
  },
  {
   "cell_type": "markdown",
   "id": "7a40f803-b47f-42f9-bf72-c542fd66e44a",
   "metadata": {},
   "source": [
    "<p style=\"font-size:20px;\">Brak istotnych statystycznie dowodów na korelację między zmiennymi.</p>"
   ]
  },
  {
   "cell_type": "markdown",
   "id": "bc6e006b-fdf9-450b-9a0e-d2b1377855ff",
   "metadata": {},
   "source": [
    "<h1>Korelacja pomiędzy <strong><em>Pregnancies</em></strong> a <strong><em>Insulin</em></strong></h1>"
   ]
  },
  {
   "cell_type": "code",
   "execution_count": 264,
   "id": "60e33fa1-00b7-453f-a0e6-c72f95d397e5",
   "metadata": {},
   "outputs": [
    {
     "name": "stdout",
     "output_type": "stream",
     "text": [
      "Test Spearmana:\n",
      "Statystyka = 0.1231537066\n",
      "P-wartość = 0.0146943108\n"
     ]
    }
   ],
   "source": [
    "stat, p = spearmanr(df['Pregnancies'], df['Insulin'])\n",
    "print(\"Test Spearmana:\")\n",
    "print(f\"Statystyka = {stat:.10f}\")\n",
    "print(f\"P-wartość = {p:.10f}\")"
   ]
  },
  {
   "cell_type": "markdown",
   "id": "eca60e44-11ac-4db0-8249-3c31e07ace34",
   "metadata": {},
   "source": [
    "<p style=\"font-size:20px;\">Zmienne są słabo, ale istotnie dodatnio skorelowane.</p>"
   ]
  },
  {
   "cell_type": "markdown",
   "id": "3c93e326-383d-4d7f-8dfe-38758570fa6a",
   "metadata": {},
   "source": [
    "<h1>Korelacja pomiędzy <strong><em>Pregnancies</em></strong> a <strong><em>BMI</em></strong></h1>"
   ]
  },
  {
   "cell_type": "code",
   "execution_count": 265,
   "id": "836fdfef-a069-4d47-ab45-c8d6f2d84dd4",
   "metadata": {},
   "outputs": [
    {
     "name": "stdout",
     "output_type": "stream",
     "text": [
      "Test Spearmana:\n",
      "Statystyka = -0.0655514419\n",
      "P-wartość = 0.1952853925\n"
     ]
    }
   ],
   "source": [
    "stat, p = spearmanr(df['Pregnancies'], df['BMI'])\n",
    "print(\"Test Spearmana:\")\n",
    "print(f\"Statystyka = {stat:.10f}\")\n",
    "print(f\"P-wartość = {p:.10f}\")"
   ]
  },
  {
   "cell_type": "markdown",
   "id": "b7623f42-3e72-499e-960e-6ae74cae8b4e",
   "metadata": {},
   "source": [
    "<p style=\"font-size:20px;\">Brak istotnych statystycznie dowodów na korelację między zmiennymi.</p>"
   ]
  },
  {
   "cell_type": "markdown",
   "id": "ab4046ab-8f9e-4fae-935a-ad463578a053",
   "metadata": {},
   "source": [
    "<h1>Korelacja pomiędzy <strong><em>Pregnancies</em></strong> a <strong><em>DiabetesPedigreeFunction</em></strong></h1>"
   ]
  },
  {
   "cell_type": "code",
   "execution_count": 266,
   "id": "a05c6eac-18b2-4c3e-b1f2-4f961faadaa2",
   "metadata": {},
   "outputs": [
    {
     "name": "stdout",
     "output_type": "stream",
     "text": [
      "Test Spearmana:\n",
      "Statystyka = 0.0117133501\n",
      "P-wartość = 0.8171751006\n"
     ]
    }
   ],
   "source": [
    "stat, p = spearmanr(df['Pregnancies'], df['DiabetesPedigreeFunction'])\n",
    "print(\"Test Spearmana:\")\n",
    "print(f\"Statystyka = {stat:.10f}\")\n",
    "print(f\"P-wartość = {p:.10f}\")"
   ]
  },
  {
   "cell_type": "markdown",
   "id": "42319841-4911-47b6-afed-3e62b38abe9b",
   "metadata": {},
   "source": [
    "<p style=\"font-size:20px;\">Brak istotnych statystycznie dowodów na korelację między zmiennymi.</p>"
   ]
  },
  {
   "cell_type": "markdown",
   "id": "666c8323-9dbc-4891-bb58-8ac850f3c684",
   "metadata": {},
   "source": [
    "<h1>Korelacja pomiędzy <strong><em>Pregnancies</em></strong> a <strong><em>Age</em></strong></h1>"
   ]
  },
  {
   "cell_type": "code",
   "execution_count": 267,
   "id": "1ac18123-a602-47a7-9551-e72a42d284d0",
   "metadata": {},
   "outputs": [
    {
     "name": "stdout",
     "output_type": "stream",
     "text": [
      "Test Spearmana:\n",
      "Statystyka = 0.6336565512\n",
      "P-wartość = 0.0000000000\n"
     ]
    }
   ],
   "source": [
    "stat, p = spearmanr(df['Pregnancies'], df['Age'])\n",
    "print(\"Test Spearmana:\")\n",
    "print(f\"Statystyka = {stat:.10f}\")\n",
    "print(f\"P-wartość = {p:.10f}\")"
   ]
  },
  {
   "cell_type": "markdown",
   "id": "5e00b5a3-808c-47bc-bf1b-990f3a729b7e",
   "metadata": {},
   "source": [
    "<p style=\"font-size:20px;\">Zmienne są wysoko istotnie dodatnio skorelowane.</p>"
   ]
  },
  {
   "cell_type": "markdown",
   "id": "321e9695-86fb-4f87-852a-c86f7add1ec2",
   "metadata": {},
   "source": [
    "<h1>Korelacja pomiędzy <strong><em>Pregnancies</em></strong> a <strong><em>Outcome</em></strong></h1>"
   ]
  },
  {
   "cell_type": "code",
   "execution_count": 268,
   "id": "74d18ecc-c2dd-4fb6-b48c-b09edd3fd7f3",
   "metadata": {},
   "outputs": [
    {
     "name": "stdout",
     "output_type": "stream",
     "text": [
      "Test Spearmana:\n",
      "Statystyka = 0.2002344526\n",
      "P-wartość = 0.0000654402\n"
     ]
    }
   ],
   "source": [
    "stat, p = spearmanr(df['Pregnancies'], df['Outcome'])\n",
    "print(\"Test Spearmana:\")\n",
    "print(f\"Statystyka = {stat:.10f}\")\n",
    "print(f\"P-wartość = {p:.10f}\")"
   ]
  },
  {
   "cell_type": "markdown",
   "id": "0b70acfc-48a0-43f7-976d-2c59130ff1a8",
   "metadata": {},
   "source": [
    "<p style=\"font-size:20px;\">Zmienne są słabo, ale istotnie dodatnio skorelowane.</p>"
   ]
  },
  {
   "cell_type": "markdown",
   "id": "6253dc9c-16c7-4769-a843-348377135079",
   "metadata": {},
   "source": [
    "<h1>Korelacja pomiędzy <strong><em>Glucose</em></strong> a <strong><em>BloodPressure</em></strong></h1>"
   ]
  },
  {
   "cell_type": "code",
   "execution_count": 269,
   "id": "5db71127-bf27-40c5-a59a-3915e9d2d6d7",
   "metadata": {},
   "outputs": [
    {
     "name": "stdout",
     "output_type": "stream",
     "text": [
      "Test Spearmana:\n",
      "Statystyka = 0.2366093060\n",
      "P-wartość = 0.0000021680\n"
     ]
    }
   ],
   "source": [
    "stat, p = spearmanr(df['Glucose'], df['BloodPressure'])\n",
    "print(\"Test Spearmana:\")\n",
    "print(f\"Statystyka = {stat:.10f}\")\n",
    "print(f\"P-wartość = {p:.10f}\")"
   ]
  },
  {
   "cell_type": "markdown",
   "id": "0caf9fb0-9365-4bc4-a3f2-6a50a94506d1",
   "metadata": {},
   "source": [
    "<p style=\"font-size:20px;\">Zmienne są słabo, ale istotnie dodatnio skorelowane.</p>"
   ]
  },
  {
   "cell_type": "markdown",
   "id": "c33034bd-6233-475f-8733-d5e87173099c",
   "metadata": {},
   "source": [
    "<h1>Korelacja pomiędzy <strong><em>Glucose</em></strong> a <strong><em>SkinThickness</em></strong></h1>"
   ]
  },
  {
   "cell_type": "code",
   "execution_count": 270,
   "id": "f7aa4247-f63f-4558-a5a6-2da9d9b55375",
   "metadata": {},
   "outputs": [
    {
     "name": "stdout",
     "output_type": "stream",
     "text": [
      "Test Spearmana:\n",
      "Statystyka = 0.2158382424\n",
      "P-wartość = 0.0000162778\n"
     ]
    }
   ],
   "source": [
    "stat, p = spearmanr(df['Glucose'], df['SkinThickness'])\n",
    "print(\"Test Spearmana:\")\n",
    "print(f\"Statystyka = {stat:.10f}\")\n",
    "print(f\"P-wartość = {p:.10f}\")"
   ]
  },
  {
   "cell_type": "markdown",
   "id": "626b85fb-05a7-40e5-8b01-9bd64ead2472",
   "metadata": {},
   "source": [
    "<p style=\"font-size:20px;\">Zmienne są słabo, ale istotnie dodatnio skorelowane.</p>"
   ]
  },
  {
   "cell_type": "markdown",
   "id": "c2c8adc2-b651-474e-9b5d-4912dba29ae5",
   "metadata": {},
   "source": [
    "<h1>Korelacja pomiędzy <strong><em>Glucose</em></strong> a <strong><em>Insulin</em></strong></h1>"
   ]
  },
  {
   "cell_type": "code",
   "execution_count": 271,
   "id": "8fe6e185-a8b0-4e20-a9d0-8573dad92fc0",
   "metadata": {},
   "outputs": [
    {
     "name": "stdout",
     "output_type": "stream",
     "text": [
      "Test Spearmana:\n",
      "Statystyka = 0.6589582174\n",
      "P-wartość = 0.0000000000\n"
     ]
    }
   ],
   "source": [
    "stat, p = spearmanr(df['Glucose'], df['Insulin'])\n",
    "print(\"Test Spearmana:\")\n",
    "print(f\"Statystyka = {stat:.10f}\")\n",
    "print(f\"P-wartość = {p:.10f}\")"
   ]
  },
  {
   "cell_type": "markdown",
   "id": "19d078c2-e574-4e3b-b4e1-3255cada101e",
   "metadata": {},
   "source": [
    "<p style=\"font-size:20px;\">Zmienne są wysoko istotnie dodatnio skorelowane.</p>"
   ]
  },
  {
   "cell_type": "markdown",
   "id": "7af1336f-e2ce-4fd5-8d05-705d904c7d8b",
   "metadata": {},
   "source": [
    "<h1>Korelacja pomiędzy <strong><em>Glucose</em></strong> a <strong><em>BMI\t</em></strong></h1>"
   ]
  },
  {
   "cell_type": "code",
   "execution_count": 272,
   "id": "d43c6162-e72c-4041-8cd8-ed335443cd98",
   "metadata": {},
   "outputs": [
    {
     "name": "stdout",
     "output_type": "stream",
     "text": [
      "Test Spearmana:\n",
      "Statystyka = 0.1990711521\n",
      "P-wartość = 0.0000722924\n"
     ]
    }
   ],
   "source": [
    "stat, p = spearmanr(df['Glucose'], df['BMI'])\n",
    "print(\"Test Spearmana:\")\n",
    "print(f\"Statystyka = {stat:.10f}\")\n",
    "print(f\"P-wartość = {p:.10f}\")"
   ]
  },
  {
   "cell_type": "markdown",
   "id": "a6b08378-7ec8-4531-94c9-b3d1bb14cfe7",
   "metadata": {},
   "source": [
    "<p style=\"font-size:20px;\">Zmienne są słabo, ale istotnie dodatnio skorelowane.</p>"
   ]
  },
  {
   "cell_type": "markdown",
   "id": "237e0a36-caf4-42f1-9ab2-1db5b86eff56",
   "metadata": {},
   "source": [
    "<h1>Korelacja pomiędzy <strong><em>Glucose</em></strong> a <strong><em>DiabetesPedigreeFunction</em></strong></h1>"
   ]
  },
  {
   "cell_type": "code",
   "execution_count": 273,
   "id": "1fb513ea-4b38-4a98-92d8-43a2f3f14777",
   "metadata": {},
   "outputs": [
    {
     "name": "stdout",
     "output_type": "stream",
     "text": [
      "Test Spearmana:\n",
      "Statystyka = 0.0893458140\n",
      "P-wartość = 0.0772545590\n"
     ]
    }
   ],
   "source": [
    "stat, p = spearmanr(df['Glucose'], df['DiabetesPedigreeFunction'])\n",
    "print(\"Test Spearmana:\")\n",
    "print(f\"Statystyka = {stat:.10f}\")\n",
    "print(f\"P-wartość = {p:.10f}\")"
   ]
  },
  {
   "cell_type": "markdown",
   "id": "76e16ad0-5336-43a6-9209-a4626d14aa12",
   "metadata": {},
   "source": [
    "<p style=\"font-size:20px;\">Brak istotnych statystycznie dowodów na korelację między zmiennymi.</p>"
   ]
  },
  {
   "cell_type": "markdown",
   "id": "00c477d2-404d-416f-ba99-4367d3ede1e8",
   "metadata": {},
   "source": [
    "<h1>Korelacja pomiędzy <strong><em>Glucose</em></strong> a <strong><em>Age</em></strong></h1>"
   ]
  },
  {
   "cell_type": "code",
   "execution_count": 274,
   "id": "67f851c1-08a6-4603-9427-e0c1663f07a3",
   "metadata": {},
   "outputs": [
    {
     "name": "stdout",
     "output_type": "stream",
     "text": [
      "Test Spearmana:\n",
      "Statystyka = 0.3503047022\n",
      "P-wartość = 0.0000000000\n"
     ]
    }
   ],
   "source": [
    "stat, p = spearmanr(df['Glucose'], df['Age'])\n",
    "print(\"Test Spearmana:\")\n",
    "print(f\"Statystyka = {stat:.10f}\")\n",
    "print(f\"P-wartość = {p:.10f}\")"
   ]
  },
  {
   "cell_type": "markdown",
   "id": "302b3843-055b-4202-86b5-4faef4fa2541",
   "metadata": {},
   "source": [
    "<p style=\"font-size:20px;\">Zmienne są przeciętnie, ale istotnie dodatnio skorelowane.</p>"
   ]
  },
  {
   "cell_type": "markdown",
   "id": "33e7b7be-d9ac-4deb-9698-dc62950c0334",
   "metadata": {},
   "source": [
    "<h1>Korelacja pomiędzy <strong><em>Glucose</em></strong> a <strong><em>Outcome</em></strong></h1>"
   ]
  },
  {
   "cell_type": "code",
   "execution_count": 275,
   "id": "dfc55b25-3cb0-429b-bcd7-5adfd4f4999b",
   "metadata": {},
   "outputs": [
    {
     "name": "stdout",
     "output_type": "stream",
     "text": [
      "Test Spearmana:\n",
      "Statystyka = 0.4987288997\n",
      "P-wartość = 0.0000000000\n"
     ]
    }
   ],
   "source": [
    "stat, p = spearmanr(df['Glucose'], df['Outcome'])\n",
    "print(\"Test Spearmana:\")\n",
    "print(f\"Statystyka = {stat:.10f}\")\n",
    "print(f\"P-wartość = {p:.10f}\")"
   ]
  },
  {
   "cell_type": "markdown",
   "id": "36ff3091-f7c6-4481-8b00-006d74e18d6e",
   "metadata": {},
   "source": [
    "<p style=\"font-size:20px;\">Zmienne są przeciętnie, ale istotnie dodatnio skorelowane.</p>"
   ]
  },
  {
   "cell_type": "markdown",
   "id": "9e6b9e99-1535-40ce-a2df-a5fc34262cc2",
   "metadata": {},
   "source": [
    "<h1>Korelacja pomiędzy <strong><em>BloodPressure</em></strong> a <strong><em>SkinThickness</em></strong></h1>"
   ]
  },
  {
   "cell_type": "code",
   "execution_count": 276,
   "id": "a44a6eba-7359-49e3-b843-5e14f700a2a8",
   "metadata": {},
   "outputs": [
    {
     "name": "stdout",
     "output_type": "stream",
     "text": [
      "Test Spearmana:\n",
      "Statystyka = 0.2501061823\n",
      "P-wartość = 0.0000005277\n"
     ]
    }
   ],
   "source": [
    "stat, p = spearmanr(df['BloodPressure'], df['SkinThickness'])\n",
    "print(\"Test Spearmana:\")\n",
    "print(f\"Statystyka = {stat:.10f}\")\n",
    "print(f\"P-wartość = {p:.10f}\")"
   ]
  },
  {
   "cell_type": "markdown",
   "id": "6296e8c5-a141-45e3-bb90-d3aeff116bfe",
   "metadata": {},
   "source": [
    "<p style=\"font-size:20px;\">Zmienne są słabo, ale istotnie dodatnio skorelowane.</p>"
   ]
  },
  {
   "cell_type": "markdown",
   "id": "90e44b9b-5561-4fd5-8051-6ddf8f0a101b",
   "metadata": {},
   "source": [
    "<h1>Korelacja pomiędzy <strong><em>BloodPressure</em></strong> a <strong><em>Insulin</em></strong></h1>"
   ]
  },
  {
   "cell_type": "code",
   "execution_count": 277,
   "id": "4d1e7953-983f-45a3-a462-53a44f165cd5",
   "metadata": {},
   "outputs": [
    {
     "name": "stdout",
     "output_type": "stream",
     "text": [
      "Test Spearmana:\n",
      "Statystyka = 0.1316389459\n",
      "P-wartość = 0.0090711929\n"
     ]
    }
   ],
   "source": [
    "stat, p = spearmanr(df['BloodPressure'], df['Insulin'])\n",
    "print(\"Test Spearmana:\")\n",
    "print(f\"Statystyka = {stat:.10f}\")\n",
    "print(f\"P-wartość = {p:.10f}\")"
   ]
  },
  {
   "cell_type": "markdown",
   "id": "5831bee0-e200-49c2-a22d-5296ba35b03b",
   "metadata": {},
   "source": [
    "<p style=\"font-size:20px;\">Zmienne są słabo, ale istotnie dodatnio skorelowane.</p>"
   ]
  },
  {
   "cell_type": "markdown",
   "id": "f38ea5d2-2012-44a1-baf5-76fc42851030",
   "metadata": {},
   "source": [
    "<h1>Korelacja pomiędzy <strong><em>BloodPressure</em></strong> a <strong><em>BMI</em></strong></h1>"
   ]
  },
  {
   "cell_type": "code",
   "execution_count": 278,
   "id": "8a6efb72-40b3-46ad-a432-7195a8e5607f",
   "metadata": {},
   "outputs": [
    {
     "name": "stdout",
     "output_type": "stream",
     "text": [
      "Test Spearmana:\n",
      "Statystyka = 0.3174274748\n",
      "P-wartość = 0.0000000001\n"
     ]
    }
   ],
   "source": [
    "stat, p = spearmanr(df['BloodPressure'], df['BMI'])\n",
    "print(\"Test Spearmana:\")\n",
    "print(f\"Statystyka = {stat:.10f}\")\n",
    "print(f\"P-wartość = {p:.10f}\")"
   ]
  },
  {
   "cell_type": "markdown",
   "id": "c3e8e8d2-e5c5-4c3f-a6f9-c57e0df025d6",
   "metadata": {},
   "source": [
    "<p style=\"font-size:20px;\">Zmienne są przeciętnie, ale istotnie dodatnio skorelowane.</p>"
   ]
  },
  {
   "cell_type": "markdown",
   "id": "ea9ac846-dbac-40f1-877b-79566ff0708a",
   "metadata": {},
   "source": [
    "<h1>Korelacja pomiędzy <strong><em>BloodPressure</em></strong> a <strong><em>DiabetesPedigreeFunction</em></strong></h1>"
   ]
  },
  {
   "cell_type": "code",
   "execution_count": 279,
   "id": "fb10684e-f663-48d7-8eff-9785d7b29818",
   "metadata": {},
   "outputs": [
    {
     "name": "stdout",
     "output_type": "stream",
     "text": [
      "Test Spearmana:\n",
      "Statystyka = -0.0208919435\n",
      "P-wartość = 0.6800730508\n"
     ]
    }
   ],
   "source": [
    "stat, p = spearmanr(df['BloodPressure'], df['DiabetesPedigreeFunction'])\n",
    "print(\"Test Spearmana:\")\n",
    "print(f\"Statystyka = {stat:.10f}\")\n",
    "print(f\"P-wartość = {p:.10f}\")"
   ]
  },
  {
   "cell_type": "markdown",
   "id": "0cd5cd81-1266-4357-babe-dd428df141ba",
   "metadata": {},
   "source": [
    "<p style=\"font-size:20px;\">Brak istotnych statystycznie dowodów na korelację między zmiennymi.</p>"
   ]
  },
  {
   "cell_type": "markdown",
   "id": "a38adc04-ec6a-48aa-8ac8-52bde16a061f",
   "metadata": {},
   "source": [
    "<h1>Korelacja pomiędzy <strong><em>BloodPressure</em></strong> a <strong><em>Age</em></strong></h1>"
   ]
  },
  {
   "cell_type": "code",
   "execution_count": 280,
   "id": "90196134-4be4-4e2c-91e4-acc01fa9a678",
   "metadata": {},
   "outputs": [
    {
     "name": "stdout",
     "output_type": "stream",
     "text": [
      "Test Spearmana:\n",
      "Statystyka = 0.3292440779\n",
      "P-wartość = 0.0000000000\n"
     ]
    }
   ],
   "source": [
    "stat, p = spearmanr(df['BloodPressure'], df['Age'])\n",
    "print(\"Test Spearmana:\")\n",
    "print(f\"Statystyka = {stat:.10f}\")\n",
    "print(f\"P-wartość = {p:.10f}\")"
   ]
  },
  {
   "cell_type": "markdown",
   "id": "9670f0fa-7302-4f01-bf2b-c0eccdd6644b",
   "metadata": {},
   "source": [
    "<p style=\"font-size:20px;\">Zmienne są przeciętnie, ale istotnie dodatnio skorelowane.</p>"
   ]
  },
  {
   "cell_type": "markdown",
   "id": "6e0a4540-0b8d-464b-9a12-0fa45dd0fc6c",
   "metadata": {},
   "source": [
    "<h1>Korelacja pomiędzy <strong><em>BloodPressure</em></strong> a <strong><em>Outcome</em></strong></h1>"
   ]
  },
  {
   "cell_type": "code",
   "execution_count": 281,
   "id": "afb0e1e2-04c5-4c5b-8ba5-8d1a5f07e541",
   "metadata": {},
   "outputs": [
    {
     "name": "stdout",
     "output_type": "stream",
     "text": [
      "Test Spearmana:\n",
      "Statystyka = 0.1981265677\n",
      "P-wartość = 0.0000783479\n"
     ]
    }
   ],
   "source": [
    "stat, p = spearmanr(df['BloodPressure'], df['Outcome'])\n",
    "print(\"Test Spearmana:\")\n",
    "print(f\"Statystyka = {stat:.10f}\")\n",
    "print(f\"P-wartość = {p:.10f}\")"
   ]
  },
  {
   "cell_type": "markdown",
   "id": "b20dbe0e-7868-4c2d-b2b0-4335bd9bbccb",
   "metadata": {},
   "source": [
    "<p style=\"font-size:20px;\">Zmienne są słabo, ale istotnie dodatnio skorelowane.</p>"
   ]
  },
  {
   "cell_type": "markdown",
   "id": "6e41a45d-ff92-4795-b0a5-45ec2883f425",
   "metadata": {},
   "source": [
    "<h1>Korelacja pomiędzy <strong><em>SkinThickness</em></strong> a <strong><em>Insulin</em></strong></h1>"
   ]
  },
  {
   "cell_type": "code",
   "execution_count": 282,
   "id": "47838abe-378a-40f9-934d-d5281bb0347c",
   "metadata": {},
   "outputs": [
    {
     "name": "stdout",
     "output_type": "stream",
     "text": [
      "Test Spearmana:\n",
      "Statystyka = 0.2411449894\n",
      "P-wartość = 0.0000013609\n"
     ]
    }
   ],
   "source": [
    "stat, p = spearmanr(df['SkinThickness'], df['Insulin'])\n",
    "print(\"Test Spearmana:\")\n",
    "print(f\"Statystyka = {stat:.10f}\")\n",
    "print(f\"P-wartość = {p:.10f}\")"
   ]
  },
  {
   "cell_type": "markdown",
   "id": "396df387-fcde-4930-9d8a-af58817f9846",
   "metadata": {},
   "source": [
    "<p style=\"font-size:20px;\">Zmienne są słabo, ale istotnie dodatnio skorelowane.</p>"
   ]
  },
  {
   "cell_type": "markdown",
   "id": "46301503-b661-4d10-9389-bb68bb7921a1",
   "metadata": {},
   "source": [
    "<h1>Korelacja pomiędzy <strong><em>SkinThickness</em></strong> a <strong><em>BMI</em></strong></h1>"
   ]
  },
  {
   "cell_type": "code",
   "execution_count": 283,
   "id": "4119b77e-c719-4434-a770-abe5034a9537",
   "metadata": {},
   "outputs": [
    {
     "name": "stdout",
     "output_type": "stream",
     "text": [
      "Test Spearmana:\n",
      "Statystyka = 0.6743929277\n",
      "P-wartość = 0.0000000000\n"
     ]
    }
   ],
   "source": [
    "stat, p = spearmanr(df['SkinThickness'], df['BMI'])\n",
    "print(\"Test Spearmana:\")\n",
    "print(f\"Statystyka = {stat:.10f}\")\n",
    "print(f\"P-wartość = {p:.10f}\")"
   ]
  },
  {
   "cell_type": "markdown",
   "id": "63bbe7e0-6aa9-43d4-9fcd-5c377e4efdf7",
   "metadata": {},
   "source": [
    "<p style=\"font-size:20px;\">Zmienne są wysoko istotnie dodatnio skorelowane.</p>"
   ]
  },
  {
   "cell_type": "markdown",
   "id": "a5f1588a-b222-4c5a-b3ba-9ae4d4aa1de5",
   "metadata": {},
   "source": [
    "<h1>Korelacja pomiędzy <strong><em>SkinThickness</em></strong> a <strong><em>DiabetesPedigreeFunction</em></strong></h1>"
   ]
  },
  {
   "cell_type": "code",
   "execution_count": 284,
   "id": "1dd7490b-0c97-4542-8252-1cbaf11e36f2",
   "metadata": {},
   "outputs": [
    {
     "name": "stdout",
     "output_type": "stream",
     "text": [
      "Test Spearmana:\n",
      "Statystyka = 0.0930494687\n",
      "P-wartość = 0.0657100019\n"
     ]
    }
   ],
   "source": [
    "stat, p = spearmanr(df['SkinThickness'], df['DiabetesPedigreeFunction'])\n",
    "print(\"Test Spearmana:\")\n",
    "print(f\"Statystyka = {stat:.10f}\")\n",
    "print(f\"P-wartość = {p:.10f}\")"
   ]
  },
  {
   "cell_type": "markdown",
   "id": "80796b5e-342f-4b1b-9dc8-43bb6f1a3ef0",
   "metadata": {},
   "source": [
    "<p style=\"font-size:20px;\">Brak istotnych statystycznie dowodów na korelację między zmiennymi.</p>"
   ]
  },
  {
   "cell_type": "markdown",
   "id": "40ecbde4-c9d0-4091-b83f-9a7d6105462d",
   "metadata": {},
   "source": [
    "<h1>Korelacja pomiędzy <strong><em>SkinThickness</em></strong> a <strong><em>Age</em></strong></h1>"
   ]
  },
  {
   "cell_type": "code",
   "execution_count": 285,
   "id": "33fcaf11-305b-4c8b-9ccd-f6d5a02b91fa",
   "metadata": {},
   "outputs": [
    {
     "name": "stdout",
     "output_type": "stream",
     "text": [
      "Test Spearmana:\n",
      "Statystyka = 0.2415067207\n",
      "P-wartość = 0.0000013107\n"
     ]
    }
   ],
   "source": [
    "stat, p = spearmanr(df['SkinThickness'], df['Age'])\n",
    "print(\"Test Spearmana:\")\n",
    "print(f\"Statystyka = {stat:.10f}\")\n",
    "print(f\"P-wartość = {p:.10f}\")"
   ]
  },
  {
   "cell_type": "markdown",
   "id": "b78fb5b9-a320-414d-abb1-29bfc00bbaa7",
   "metadata": {},
   "source": [
    "<p style=\"font-size:20px;\">Zmienne są słabo, ale istotnie dodatnio skorelowane.</p>"
   ]
  },
  {
   "cell_type": "markdown",
   "id": "6af681ec-8786-47ab-aa36-d84801d86e20",
   "metadata": {},
   "source": [
    "<h1>Korelacja pomiędzy <strong><em>SkinThickness</em></strong> a <strong><em>Outcome</em></strong></h1>"
   ]
  },
  {
   "cell_type": "code",
   "execution_count": 286,
   "id": "cd21a72f-56f8-4814-9a8c-c3bbf0d138e5",
   "metadata": {},
   "outputs": [
    {
     "name": "stdout",
     "output_type": "stream",
     "text": [
      "Test Spearmana:\n",
      "Statystyka = 0.2601534348\n",
      "P-wartość = 0.0000001746\n"
     ]
    }
   ],
   "source": [
    "stat, p = spearmanr(df['SkinThickness'], df['Outcome'])\n",
    "print(\"Test Spearmana:\")\n",
    "print(f\"Statystyka = {stat:.10f}\")\n",
    "print(f\"P-wartość = {p:.10f}\")"
   ]
  },
  {
   "cell_type": "markdown",
   "id": "09dfbe14-8a10-4b63-964e-f927c441e919",
   "metadata": {},
   "source": [
    "<p style=\"font-size:20px;\">Zmienne są słabo, ale istotnie dodatnio skorelowane.</p>"
   ]
  },
  {
   "cell_type": "markdown",
   "id": "228312da-a8c4-4ab6-bab5-dfa4dfc4091a",
   "metadata": {},
   "source": [
    "<h1>Korelacja pomiędzy <strong><em>Insulin</em></strong> a <strong><em>BMI</em></strong></h1>"
   ]
  },
  {
   "cell_type": "code",
   "execution_count": 287,
   "id": "4f2783af-9718-4a35-b186-beee8ae100ad",
   "metadata": {},
   "outputs": [
    {
     "name": "stdout",
     "output_type": "stream",
     "text": [
      "Test Spearmana:\n",
      "Statystyka = 0.3009060840\n",
      "P-wartość = 0.0000000012\n"
     ]
    }
   ],
   "source": [
    "stat, p = spearmanr(df['Insulin'], df['BMI'])\n",
    "print(\"Test Spearmana:\")\n",
    "print(f\"Statystyka = {stat:.10f}\")\n",
    "print(f\"P-wartość = {p:.10f}\")"
   ]
  },
  {
   "cell_type": "markdown",
   "id": "8a512dbd-7298-4159-9658-a72af17de7eb",
   "metadata": {},
   "source": [
    "<p style=\"font-size:20px;\">Zmienne są przeciętnie, ale istotnie dodatnio skorelowane.</p>"
   ]
  },
  {
   "cell_type": "markdown",
   "id": "9bcbbb6d-02e4-4b7a-8691-7b3278b1b6e9",
   "metadata": {},
   "source": [
    "<h1>Korelacja pomiędzy <strong><em>Insulin</em></strong> a <strong><em>DiabetesPedigreeFunction</em></strong></h1>"
   ]
  },
  {
   "cell_type": "code",
   "execution_count": 288,
   "id": "4288d3a7-432c-4fbd-afbd-298d6c5977c0",
   "metadata": {},
   "outputs": [
    {
     "name": "stdout",
     "output_type": "stream",
     "text": [
      "Test Spearmana:\n",
      "Statystyka = 0.1315152978\n",
      "P-wartość = 0.0091369546\n"
     ]
    }
   ],
   "source": [
    "stat, p = spearmanr(df['Insulin'], df['DiabetesPedigreeFunction'])\n",
    "print(\"Test Spearmana:\")\n",
    "print(f\"Statystyka = {stat:.10f}\")\n",
    "print(f\"P-wartość = {p:.10f}\")"
   ]
  },
  {
   "cell_type": "markdown",
   "id": "a91d879f-cce7-44fa-9610-912b069ebdb2",
   "metadata": {},
   "source": [
    "<p style=\"font-size:20px;\">Zmienne są słabo, ale istotnie dodatnio skorelowane.</p>"
   ]
  },
  {
   "cell_type": "markdown",
   "id": "11dbe421-5e64-44b2-9ef2-db445c03a960",
   "metadata": {},
   "source": [
    "<h1>Korelacja pomiędzy <strong><em>Insulin</em></strong> a <strong><em>Age</em></strong></h1>"
   ]
  },
  {
   "cell_type": "code",
   "execution_count": 289,
   "id": "5517941b-5615-4b50-9e81-e26f53a6d042",
   "metadata": {},
   "outputs": [
    {
     "name": "stdout",
     "output_type": "stream",
     "text": [
      "Test Spearmana:\n",
      "Statystyka = 0.2607474253\n",
      "P-wartość = 0.0000001633\n"
     ]
    }
   ],
   "source": [
    "stat, p = spearmanr(df['Insulin'], df['Age'])\n",
    "print(\"Test Spearmana:\")\n",
    "print(f\"Statystyka = {stat:.10f}\")\n",
    "print(f\"P-wartość = {p:.10f}\")"
   ]
  },
  {
   "cell_type": "markdown",
   "id": "65d59019-fc1c-44f0-83ac-862c9ef4f6b4",
   "metadata": {},
   "source": [
    "<p style=\"font-size:20px;\">Zmienne są słabo, ale istotnie dodatnio skorelowane.</p>"
   ]
  },
  {
   "cell_type": "markdown",
   "id": "df00ff79-b79f-4771-941f-672ed4fcf2c8",
   "metadata": {},
   "source": [
    "<h1>Korelacja pomiędzy <strong><em>Insulin</em></strong> a <strong><em>Outcome</em></strong></h1>"
   ]
  },
  {
   "cell_type": "code",
   "execution_count": 290,
   "id": "4a4c8073-c53c-4afe-bbc1-01abeaa353a3",
   "metadata": {},
   "outputs": [
    {
     "name": "stdout",
     "output_type": "stream",
     "text": [
      "Test Spearmana:\n",
      "Statystyka = 0.3750194935\n",
      "P-wartość = 0.0000000000\n"
     ]
    }
   ],
   "source": [
    "stat, p = spearmanr(df['Insulin'], df['Outcome'])\n",
    "print(\"Test Spearmana:\")\n",
    "print(f\"Statystyka = {stat:.10f}\")\n",
    "print(f\"P-wartość = {p:.10f}\")"
   ]
  },
  {
   "cell_type": "markdown",
   "id": "63416f5c-78e5-4c29-b050-b06be8abc8dd",
   "metadata": {},
   "source": [
    "<p style=\"font-size:20px;\">Zmienne są przeciętnie, ale istotnie dodatnio skorelowane.</p>"
   ]
  },
  {
   "cell_type": "markdown",
   "id": "15dff087-51d7-40dc-8238-1d799510f030",
   "metadata": {},
   "source": [
    "<h1>Korelacja pomiędzy <strong><em>BMI</em></strong> a <strong><em>DiabetesPedigreeFunction</em></strong></h1>"
   ]
  },
  {
   "cell_type": "code",
   "execution_count": 291,
   "id": "6ed23b52-52bf-4703-b324-1dbc8a69d5ab",
   "metadata": {},
   "outputs": [
    {
     "name": "stdout",
     "output_type": "stream",
     "text": [
      "Test Spearmana:\n",
      "Statystyka = 0.0962424203\n",
      "P-wartość = 0.0569311438\n"
     ]
    }
   ],
   "source": [
    "stat, p = spearmanr(df['BMI'], df['DiabetesPedigreeFunction'])\n",
    "print(\"Test Spearmana:\")\n",
    "print(f\"Statystyka = {stat:.10f}\")\n",
    "print(f\"P-wartość = {p:.10f}\")"
   ]
  },
  {
   "cell_type": "markdown",
   "id": "10fade4d-8634-4ee4-b153-6f26f40a6bec",
   "metadata": {},
   "source": [
    "<p style=\"font-size:20px;\">Brak istotnych statystycznie dowodów na korelację między zmiennymi.</p>"
   ]
  },
  {
   "cell_type": "markdown",
   "id": "69f82b5e-1bcb-40c7-9ac5-e78b48f3a48f",
   "metadata": {},
   "source": [
    "<h1>Korelacja pomiędzy <strong><em>BMI</em></strong> a <strong><em>Age</em></strong></h1>"
   ]
  },
  {
   "cell_type": "code",
   "execution_count": 292,
   "id": "e35e3b89-29ba-4016-91a4-902c1063b41b",
   "metadata": {},
   "outputs": [
    {
     "name": "stdout",
     "output_type": "stream",
     "text": [
      "Test Spearmana:\n",
      "Statystyka = 0.1669628955\n",
      "P-wartość = 0.0009051438\n"
     ]
    }
   ],
   "source": [
    "stat, p = spearmanr(df['BMI'], df['Age'])\n",
    "print(\"Test Spearmana:\")\n",
    "print(f\"Statystyka = {stat:.10f}\")\n",
    "print(f\"P-wartość = {p:.10f}\")"
   ]
  },
  {
   "cell_type": "markdown",
   "id": "80295205-ec68-4ecc-a9c9-6c72f2745e84",
   "metadata": {},
   "source": [
    "<p style=\"font-size:20px;\">Zmienne są słabo, ale istotnie dodatnio skorelowane.</p>"
   ]
  },
  {
   "cell_type": "markdown",
   "id": "67dc70c6-e245-4239-862b-de903a08bd2d",
   "metadata": {},
   "source": [
    "<h1>Korelacja pomiędzy <strong><em>BMI</em></strong> a <strong><em>Outcome</em></strong></h1>"
   ]
  },
  {
   "cell_type": "code",
   "execution_count": 293,
   "id": "4991dc09-2ca8-40ea-8e3d-64197a8372ed",
   "metadata": {},
   "outputs": [
    {
     "name": "stdout",
     "output_type": "stream",
     "text": [
      "Test Spearmana:\n",
      "Statystyka = 0.2670771707\n",
      "P-wartość = 0.0000000793\n"
     ]
    }
   ],
   "source": [
    "stat, p = spearmanr(df['BMI'], df['Outcome'])\n",
    "print(\"Test Spearmana:\")\n",
    "print(f\"Statystyka = {stat:.10f}\")\n",
    "print(f\"P-wartość = {p:.10f}\")"
   ]
  },
  {
   "cell_type": "markdown",
   "id": "d0890d6b-4567-4633-ab9e-5adcc55cd9d4",
   "metadata": {},
   "source": [
    "<p style=\"font-size:20px;\">Zmienne są słabo, ale istotnie dodatnio skorelowane.</p>"
   ]
  },
  {
   "cell_type": "markdown",
   "id": "7d04c397-e084-47d7-9a5c-6fd144c4dbb7",
   "metadata": {},
   "source": [
    "<h1>Korelacja pomiędzy <strong><em>DiabetesPedigreeFunction</em></strong> a <strong><em>Age</em></strong></h1>"
   ]
  },
  {
   "cell_type": "code",
   "execution_count": 294,
   "id": "db642d77-1104-4fe8-b2ff-337089953f84",
   "metadata": {},
   "outputs": [
    {
     "name": "stdout",
     "output_type": "stream",
     "text": [
      "Test Spearmana:\n",
      "Statystyka = 0.1029841163\n",
      "P-wartość = 0.0415607990\n"
     ]
    }
   ],
   "source": [
    "stat, p = spearmanr(df['DiabetesPedigreeFunction'], df['Age'])\n",
    "print(\"Test Spearmana:\")\n",
    "print(f\"Statystyka = {stat:.10f}\")\n",
    "print(f\"P-wartość = {p:.10f}\")"
   ]
  },
  {
   "cell_type": "markdown",
   "id": "fcbff4ae-dea1-49d5-8713-a39f0662ae57",
   "metadata": {},
   "source": [
    "<p style=\"font-size:20px;\">Zmienne są słabo, ale istotnie dodatnio skorelowane.</p>"
   ]
  },
  {
   "cell_type": "markdown",
   "id": "a3998c3f-1845-49ae-847f-aa47a28d3d3a",
   "metadata": {},
   "source": [
    "<h1>Korelacja pomiędzy <strong><em>DiabetesPedigreeFunction</em></strong> a <strong><em>Outcome</em></strong></h1>"
   ]
  },
  {
   "cell_type": "code",
   "execution_count": 295,
   "id": "a39b4d49-c623-49c2-acda-6c4f5a3a6df3",
   "metadata": {},
   "outputs": [
    {
     "name": "stdout",
     "output_type": "stream",
     "text": [
      "Test Spearmana:\n",
      "Statystyka = 0.1982135354\n",
      "P-wartość = 0.0000777711\n"
     ]
    }
   ],
   "source": [
    "stat, p = spearmanr(df['DiabetesPedigreeFunction'], df['Outcome'])\n",
    "print(\"Test Spearmana:\")\n",
    "print(f\"Statystyka = {stat:.10f}\")\n",
    "print(f\"P-wartość = {p:.10f}\")"
   ]
  },
  {
   "cell_type": "markdown",
   "id": "5e5149b9-e09c-46e0-a055-365eab5b0aa0",
   "metadata": {},
   "source": [
    "<p style=\"font-size:20px;\">Zmienne są słabo, ale istotnie dodatnio skorelowane.</p>"
   ]
  },
  {
   "cell_type": "markdown",
   "id": "341da06a-9592-439e-89a5-8ecada492d1c",
   "metadata": {},
   "source": [
    "<h1>Korelacja pomiędzy <strong><em>Age</em></strong> a <strong><em>Outcome</em></strong></h1>"
   ]
  },
  {
   "cell_type": "code",
   "execution_count": 296,
   "id": "223af341-d313-4727-8811-b05e7aff03a2",
   "metadata": {},
   "outputs": [
    {
     "name": "stdout",
     "output_type": "stream",
     "text": [
      "Test Spearmana:\n",
      "Statystyka = 0.3973547357\n",
      "P-wartość = 0.0000000000\n"
     ]
    }
   ],
   "source": [
    "stat, p = spearmanr(df['Age'], df['Outcome'])\n",
    "print(\"Test Spearmana:\")\n",
    "print(f\"Statystyka = {stat:.10f}\")\n",
    "print(f\"P-wartość = {p:.10f}\")"
   ]
  },
  {
   "cell_type": "markdown",
   "id": "f625fffa-154b-4246-91c8-eda69b8633ed",
   "metadata": {},
   "source": [
    "<p style=\"font-size:20px;\">Zmienne są przeciętnie, ale istotnie dodatnio skorelowane.</p>"
   ]
  },
  {
   "cell_type": "markdown",
   "id": "d1211a31-5139-4002-848c-f75499353db3",
   "metadata": {},
   "source": [
    "<h1>Podsumowanie testów nieparametrycznych - test Spearmana</h1>\n",
    "<p style=\"font-size:20px;\">Widzimy, że najwyższa korelacja występuje pomiędzy <strong><em>SkinThickness</em></strong> a <strong><em>BMI</em></strong> oraz <strong><em>Glucose</em></strong> a <strong><em>Insulin</em></strong></p>\n",
    "<p style=\"font-size:20px;\">Nieskorelowane są natomiast <strong><em>DiabetesPedigreeFunction</em></strong> z <strong><em>BMI</em></strong>,  <strong><em>DiabetesPedigreeFunction</em></strong> z <strong><em>SkinThickness</em></strong>, <strong><em>DiabetesPedigreeFunction</em></strong> z <strong><em>BloodPressure</em></strong>, <strong><em>DiabetesPedigreeFunction</em></strong> z <strong><em>Glucose</em></strong>, <strong><em>DiabetesPedigreeFunction</em></strong> z <strong><em>Pregnancies</em></strong> oraz <strong><em>Pregnancies</em></strong> z <strong><em>SkinThickness</em></strong>.</p>"
   ]
  }
 ],
 "metadata": {
  "kernelspec": {
   "display_name": "Python 3 (ipykernel)",
   "language": "python",
   "name": "python3"
  },
  "language_info": {
   "codemirror_mode": {
    "name": "ipython",
    "version": 3
   },
   "file_extension": ".py",
   "mimetype": "text/x-python",
   "name": "python",
   "nbconvert_exporter": "python",
   "pygments_lexer": "ipython3",
   "version": "3.12.2"
  }
 },
 "nbformat": 4,
 "nbformat_minor": 5
}
